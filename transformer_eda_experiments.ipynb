{
 "cells": [
  {
   "cell_type": "code",
   "execution_count": 10,
   "metadata": {
    "collapsed": true
   },
   "outputs": [],
   "source": [
    "import numpy as np\n",
    "import pandas as pd\n",
    "import matplotlib.pyplot as plt\n",
    "\n",
    "\n",
    "# Pytorch package\n",
    "import torch\n",
    "import torch.nn as nn\n",
    "import torch.optim as optim\n",
    "from torch.utils.data import DataLoader\n",
    "\n",
    "# Tqdm progress bar\n",
    "from tqdm import tqdm_notebook, tqdm\n",
    "\n",
    "import transformer_model"
   ]
  },
  {
   "cell_type": "code",
   "execution_count": 9,
   "outputs": [],
   "source": [
    "df = pd.read_csv(\"cgm_data.csv\").sample(frac=1)\n",
    "for column in df.columns:\n",
    "    df[column] = df[column].astype(float)\n",
    "df.rename({0:\"ID\"}, axis=1)\n",
    "df = df.drop(\"ptid\",axis=1)"
   ],
   "metadata": {
    "collapsed": false
   }
  },
  {
   "cell_type": "code",
   "execution_count": 5,
   "outputs": [
    {
     "data": {
      "text/plain": "(97, 480)"
     },
     "execution_count": 5,
     "metadata": {},
     "output_type": "execute_result"
    }
   ],
   "source": [
    "df.shape"
   ],
   "metadata": {
    "collapsed": false
   }
  },
  {
   "cell_type": "code",
   "execution_count": 6,
   "outputs": [
    {
     "data": {
      "text/plain": "    0 days 00:00:00  0 days 00:15:00  0 days 00:30:00  0 days 00:45:00  \\\n8             165.6            162.0            176.4            205.2   \n62            131.4            124.2            118.8            111.6   \n83             61.2             57.6             54.0             66.6   \n39            149.4            165.6            176.4            181.8   \n48            199.8            190.8            183.6            167.4   \n\n    0 days 01:00:00  0 days 01:15:00  0 days 01:30:00  0 days 01:45:00  \\\n8             234.0            259.2            280.8            291.6   \n62            106.2            102.6            100.8            109.8   \n83             88.2            106.2            120.6            117.0   \n39            181.8            180.0            178.2            176.4   \n48            145.8            133.2            129.6            129.6   \n\n    0 days 02:00:00  0 days 02:15:00  ...  4 days 21:30:00  4 days 21:45:00  \\\n8             297.0            304.2  ...            167.4            160.2   \n62            120.6            122.4  ...            167.4            162.0   \n83            100.8             91.8  ...            118.8            120.6   \n39            165.6            153.0  ...            117.0            122.4   \n48            151.2            180.0  ...            158.4            160.2   \n\n    4 days 22:00:00  4 days 22:15:00  4 days 22:30:00  4 days 22:45:00  \\\n8             154.8            156.6            154.8            149.4   \n62            162.0            171.0            171.0            167.4   \n83            108.0             99.0             95.4             84.6   \n39            142.2            172.8            190.8            181.8   \n48            163.8            158.4            153.0            149.4   \n\n    4 days 23:00:00  4 days 23:15:00  4 days 23:30:00  4 days 23:45:00  \n8             147.6            142.2            140.4            149.4  \n62            160.2            149.4            151.2            160.2  \n83             73.8             68.4             73.8             82.8  \n39            163.8            154.8            147.6            124.2  \n48            147.6            145.8            140.4            140.4  \n\n[5 rows x 480 columns]",
      "text/html": "<div>\n<style scoped>\n    .dataframe tbody tr th:only-of-type {\n        vertical-align: middle;\n    }\n\n    .dataframe tbody tr th {\n        vertical-align: top;\n    }\n\n    .dataframe thead th {\n        text-align: right;\n    }\n</style>\n<table border=\"1\" class=\"dataframe\">\n  <thead>\n    <tr style=\"text-align: right;\">\n      <th></th>\n      <th>0 days 00:00:00</th>\n      <th>0 days 00:15:00</th>\n      <th>0 days 00:30:00</th>\n      <th>0 days 00:45:00</th>\n      <th>0 days 01:00:00</th>\n      <th>0 days 01:15:00</th>\n      <th>0 days 01:30:00</th>\n      <th>0 days 01:45:00</th>\n      <th>0 days 02:00:00</th>\n      <th>0 days 02:15:00</th>\n      <th>...</th>\n      <th>4 days 21:30:00</th>\n      <th>4 days 21:45:00</th>\n      <th>4 days 22:00:00</th>\n      <th>4 days 22:15:00</th>\n      <th>4 days 22:30:00</th>\n      <th>4 days 22:45:00</th>\n      <th>4 days 23:00:00</th>\n      <th>4 days 23:15:00</th>\n      <th>4 days 23:30:00</th>\n      <th>4 days 23:45:00</th>\n    </tr>\n  </thead>\n  <tbody>\n    <tr>\n      <th>8</th>\n      <td>165.6</td>\n      <td>162.0</td>\n      <td>176.4</td>\n      <td>205.2</td>\n      <td>234.0</td>\n      <td>259.2</td>\n      <td>280.8</td>\n      <td>291.6</td>\n      <td>297.0</td>\n      <td>304.2</td>\n      <td>...</td>\n      <td>167.4</td>\n      <td>160.2</td>\n      <td>154.8</td>\n      <td>156.6</td>\n      <td>154.8</td>\n      <td>149.4</td>\n      <td>147.6</td>\n      <td>142.2</td>\n      <td>140.4</td>\n      <td>149.4</td>\n    </tr>\n    <tr>\n      <th>62</th>\n      <td>131.4</td>\n      <td>124.2</td>\n      <td>118.8</td>\n      <td>111.6</td>\n      <td>106.2</td>\n      <td>102.6</td>\n      <td>100.8</td>\n      <td>109.8</td>\n      <td>120.6</td>\n      <td>122.4</td>\n      <td>...</td>\n      <td>167.4</td>\n      <td>162.0</td>\n      <td>162.0</td>\n      <td>171.0</td>\n      <td>171.0</td>\n      <td>167.4</td>\n      <td>160.2</td>\n      <td>149.4</td>\n      <td>151.2</td>\n      <td>160.2</td>\n    </tr>\n    <tr>\n      <th>83</th>\n      <td>61.2</td>\n      <td>57.6</td>\n      <td>54.0</td>\n      <td>66.6</td>\n      <td>88.2</td>\n      <td>106.2</td>\n      <td>120.6</td>\n      <td>117.0</td>\n      <td>100.8</td>\n      <td>91.8</td>\n      <td>...</td>\n      <td>118.8</td>\n      <td>120.6</td>\n      <td>108.0</td>\n      <td>99.0</td>\n      <td>95.4</td>\n      <td>84.6</td>\n      <td>73.8</td>\n      <td>68.4</td>\n      <td>73.8</td>\n      <td>82.8</td>\n    </tr>\n    <tr>\n      <th>39</th>\n      <td>149.4</td>\n      <td>165.6</td>\n      <td>176.4</td>\n      <td>181.8</td>\n      <td>181.8</td>\n      <td>180.0</td>\n      <td>178.2</td>\n      <td>176.4</td>\n      <td>165.6</td>\n      <td>153.0</td>\n      <td>...</td>\n      <td>117.0</td>\n      <td>122.4</td>\n      <td>142.2</td>\n      <td>172.8</td>\n      <td>190.8</td>\n      <td>181.8</td>\n      <td>163.8</td>\n      <td>154.8</td>\n      <td>147.6</td>\n      <td>124.2</td>\n    </tr>\n    <tr>\n      <th>48</th>\n      <td>199.8</td>\n      <td>190.8</td>\n      <td>183.6</td>\n      <td>167.4</td>\n      <td>145.8</td>\n      <td>133.2</td>\n      <td>129.6</td>\n      <td>129.6</td>\n      <td>151.2</td>\n      <td>180.0</td>\n      <td>...</td>\n      <td>158.4</td>\n      <td>160.2</td>\n      <td>163.8</td>\n      <td>158.4</td>\n      <td>153.0</td>\n      <td>149.4</td>\n      <td>147.6</td>\n      <td>145.8</td>\n      <td>140.4</td>\n      <td>140.4</td>\n    </tr>\n  </tbody>\n</table>\n<p>5 rows × 480 columns</p>\n</div>"
     },
     "execution_count": 6,
     "metadata": {},
     "output_type": "execute_result"
    }
   ],
   "source": [
    "df.head()"
   ],
   "metadata": {
    "collapsed": false
   }
  },
  {
   "cell_type": "code",
   "execution_count": 11,
   "outputs": [
    {
     "name": "stdout",
     "output_type": "stream",
     "text": [
      "You are using device: cpu\n"
     ]
    }
   ],
   "source": [
    "# Check device availability\n",
    "device = torch.device('cuda' if torch.cuda.is_available() else 'cpu')\n",
    "print(\"You are using device: %s\" % device)"
   ],
   "metadata": {
    "collapsed": false
   }
  },
  {
   "cell_type": "code",
   "execution_count": 1,
   "outputs": [
    {
     "ename": "NameError",
     "evalue": "name 'transformer_model' is not defined",
     "output_type": "error",
     "traceback": [
      "\u001B[0;31m---------------------------------------------------------------------------\u001B[0m",
      "\u001B[0;31mNameError\u001B[0m                                 Traceback (most recent call last)",
      "Cell \u001B[0;32mIn[1], line 3\u001B[0m\n\u001B[1;32m      1\u001B[0m \u001B[38;5;66;03m# Assuming input sequence length is 100, feature size is 480 (glucose level at 480 time points)\u001B[39;00m\n\u001B[1;32m      2\u001B[0m \u001B[38;5;66;03m# Output sequence length is 1 (glucose level at next time point)\u001B[39;00m\n\u001B[0;32m----> 3\u001B[0m model \u001B[38;5;241m=\u001B[39m \u001B[43mtransformer_model\u001B[49m\u001B[38;5;241m.\u001B[39mTransformerModel(feature_size\u001B[38;5;241m=\u001B[39m\u001B[38;5;241m480\u001B[39m, hidden_dim\u001B[38;5;241m=\u001B[39m\u001B[38;5;241m512\u001B[39m, output_dim\u001B[38;5;241m=\u001B[39m\u001B[38;5;241m1\u001B[39m, nhead\u001B[38;5;241m=\u001B[39m\u001B[38;5;241m4\u001B[39m, num_layers\u001B[38;5;241m=\u001B[39m\u001B[38;5;241m2\u001B[39m)\u001B[38;5;241m.\u001B[39mto(device)\n\u001B[1;32m      4\u001B[0m criterion \u001B[38;5;241m=\u001B[39m nn\u001B[38;5;241m.\u001B[39mMSELoss()\n\u001B[1;32m      5\u001B[0m optimizer \u001B[38;5;241m=\u001B[39m optim\u001B[38;5;241m.\u001B[39mAdam(model\u001B[38;5;241m.\u001B[39mparameters(), lr\u001B[38;5;241m=\u001B[39m\u001B[38;5;241m0.001\u001B[39m)\n",
      "\u001B[0;31mNameError\u001B[0m: name 'transformer_model' is not defined"
     ]
    }
   ],
   "source": [
    "# Assuming input sequence length is 100, feature size is 480 (glucose level at 480 time points)\n",
    "# Output sequence length is 1 (glucose level at next time point)\n",
    "model = transformer_model.TransformerModel(feature_size=480, hidden_dim=512, output_dim=1, nhead=4, num_layers=2).to(device)\n",
    "criterion = nn.MSELoss()\n",
    "optimizer = optim.Adam(model.parameters(), lr=0.001)\n"
   ],
   "metadata": {
    "collapsed": false
   }
  },
  {
   "cell_type": "code",
   "execution_count": null,
   "outputs": [],
   "source": [
    "# Assuming you've defined `train_dataloader` and `val_dataloader`\n",
    "# that loads your training and validation data respectively\n",
    "\n",
    "def train_one_epoch(model, dataloader, criterion, optimizer, device):\n",
    "    model.train()\n",
    "    epoch_loss = 0\n",
    "    for batch in dataloader:\n",
    "        # Assuming each batch in your dataloader is a tuple (inputs, targets)\n",
    "        inputs, targets = batch\n",
    "        inputs, targets = inputs.to(device), targets.to(device)\n",
    "\n",
    "        # Forward pass\n",
    "        outputs = model(inputs)\n",
    "\n",
    "        # Compute loss\n",
    "        loss = criterion(outputs, targets)\n",
    "\n",
    "        # Backward pass and optimization\n",
    "        optimizer.zero_grad()\n",
    "        loss.backward()\n",
    "        optimizer.step()\n",
    "\n",
    "        epoch_loss += loss.item()\n",
    "\n",
    "    return epoch_loss / len(dataloader)\n",
    "\n",
    "def validate_one_epoch(model, dataloader, criterion, device):\n",
    "    model.eval()\n",
    "    epoch_loss = 0\n",
    "    with torch.no_grad():\n",
    "        for batch in dataloader:\n",
    "            inputs, targets = batch\n",
    "            inputs, targets = inputs.to(device), targets.to(device)\n",
    "\n",
    "            outputs = model(inputs)\n",
    "            loss = criterion(outputs, targets)\n",
    "            epoch_loss += loss.item()\n",
    "\n",
    "    return epoch_loss / len(dataloader)\n",
    "\n",
    "# Actual training loop\n",
    "n_epochs = 10\n",
    "for epoch in range(n_epochs):\n",
    "    train_loss = train_one_epoch(model, train_dataloader, criterion, optimizer, device)\n",
    "    val_loss = validate_one_epoch(model, val_dataloader, criterion, device)\n",
    "    print(f\"Epoch {epoch+1}: Train Loss: {train_loss}, Validation Loss: {val_loss}\")\n"
   ],
   "metadata": {
    "collapsed": false
   }
  }
 ],
 "metadata": {
  "kernelspec": {
   "display_name": "Python 3",
   "language": "python",
   "name": "python3"
  },
  "language_info": {
   "codemirror_mode": {
    "name": "ipython",
    "version": 2
   },
   "file_extension": ".py",
   "mimetype": "text/x-python",
   "name": "python",
   "nbconvert_exporter": "python",
   "pygments_lexer": "ipython2",
   "version": "2.7.6"
  }
 },
 "nbformat": 4,
 "nbformat_minor": 0
}
