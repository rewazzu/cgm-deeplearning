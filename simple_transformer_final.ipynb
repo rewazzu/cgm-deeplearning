{
  "cells": [
    {
      "cell_type": "code",
      "execution_count": null,
      "metadata": {
        "colab": {
          "base_uri": "https://localhost:8080/"
        },
        "id": "-NhsSKyjDMQ2",
        "outputId": "598f6e2b-0a04-483c-b04b-861810f75176"
      },
      "outputs": [
        {
          "name": "stdout",
          "output_type": "stream",
          "text": [
            "Collecting torchmetrics\n",
            "  Downloading torchmetrics-1.0.1-py3-none-any.whl (729 kB)\n",
            "\u001b[2K     \u001b[90m━━━━━━━━━━━━━━━━━━━━━━━━━━━━━━━━━━━━━━\u001b[0m \u001b[32m729.2/729.2 kB\u001b[0m \u001b[31m10.2 MB/s\u001b[0m eta \u001b[36m0:00:00\u001b[0m\n",
            "\u001b[?25hRequirement already satisfied: numpy>1.20.0 in /usr/local/lib/python3.10/dist-packages (from torchmetrics) (1.22.4)\n",
            "Requirement already satisfied: torch>=1.8.1 in /usr/local/lib/python3.10/dist-packages (from torchmetrics) (2.0.1+cu118)\n",
            "Requirement already satisfied: packaging in /usr/local/lib/python3.10/dist-packages (from torchmetrics) (23.1)\n",
            "Collecting lightning-utilities>=0.7.0 (from torchmetrics)\n",
            "  Downloading lightning_utilities-0.9.0-py3-none-any.whl (23 kB)\n",
            "Requirement already satisfied: typing-extensions in /usr/local/lib/python3.10/dist-packages (from lightning-utilities>=0.7.0->torchmetrics) (4.7.1)\n",
            "Requirement already satisfied: filelock in /usr/local/lib/python3.10/dist-packages (from torch>=1.8.1->torchmetrics) (3.12.2)\n",
            "Requirement already satisfied: sympy in /usr/local/lib/python3.10/dist-packages (from torch>=1.8.1->torchmetrics) (1.11.1)\n",
            "Requirement already satisfied: networkx in /usr/local/lib/python3.10/dist-packages (from torch>=1.8.1->torchmetrics) (3.1)\n",
            "Requirement already satisfied: jinja2 in /usr/local/lib/python3.10/dist-packages (from torch>=1.8.1->torchmetrics) (3.1.2)\n",
            "Requirement already satisfied: triton==2.0.0 in /usr/local/lib/python3.10/dist-packages (from torch>=1.8.1->torchmetrics) (2.0.0)\n",
            "Requirement already satisfied: cmake in /usr/local/lib/python3.10/dist-packages (from triton==2.0.0->torch>=1.8.1->torchmetrics) (3.25.2)\n",
            "Requirement already satisfied: lit in /usr/local/lib/python3.10/dist-packages (from triton==2.0.0->torch>=1.8.1->torchmetrics) (16.0.6)\n",
            "Requirement already satisfied: MarkupSafe>=2.0 in /usr/local/lib/python3.10/dist-packages (from jinja2->torch>=1.8.1->torchmetrics) (2.1.3)\n",
            "Requirement already satisfied: mpmath>=0.19 in /usr/local/lib/python3.10/dist-packages (from sympy->torch>=1.8.1->torchmetrics) (1.3.0)\n",
            "Installing collected packages: lightning-utilities, torchmetrics\n",
            "Successfully installed lightning-utilities-0.9.0 torchmetrics-1.0.1\n"
          ]
        }
      ],
      "source": [
        "pip install torchmetrics"
      ]
    },
    {
      "cell_type": "code",
      "execution_count": null,
      "metadata": {
        "id": "-LWSTbqsG1sQ"
      },
      "outputs": [],
      "source": [
        "import numpy as np\n",
        "import pandas as pd\n",
        "import matplotlib.pyplot as plt\n",
        "from tqdm import tqdm\n",
        "import math\n",
        "# Pytorch package\n",
        "import torch\n",
        "import torch.nn as nn\n",
        "from torchmetrics.regression import MeanAbsolutePercentageError"
      ]
    },
    {
      "cell_type": "code",
      "execution_count": null,
      "metadata": {
        "id": "tzef7ORmG5Xq"
      },
      "outputs": [],
      "source": [
        "df = pd.read_csv(\"cgm_data.csv\")\n",
        "for column in df.columns:\n",
        "    df[column] = df[column].astype(float)\n",
        "df.rename({0:\"ID\"}, axis=1)\n",
        "df = df.drop(\"ptid\", axis=1)\n",
        "df = df.iloc[:-1 , :]"
      ]
    },
    {
      "cell_type": "code",
      "execution_count": null,
      "metadata": {
        "colab": {
          "base_uri": "https://localhost:8080/"
        },
        "id": "LuGxR3aTHA7N",
        "outputId": "745c3ade-06b8-4de4-fdb0-b7cef3e06e72"
      },
      "outputs": [
        {
          "name": "stdout",
          "output_type": "stream",
          "text": [
            "You are using device: cuda\n"
          ]
        }
      ],
      "source": [
        "# Check device availability\n",
        "device = torch.device('cuda' if torch.cuda.is_available() else 'cpu')\n",
        "print(\"You are using device: %s\" % device)"
      ]
    },
    {
      "cell_type": "code",
      "execution_count": null,
      "metadata": {
        "id": "996kEX39HDO4"
      },
      "outputs": [],
      "source": [
        "# Define constants\n",
        "N_EPOCHS = 250\n",
        "NHEAD = 1\n",
        "NHID = 64\n",
        "NLAYERS = 2\n",
        "LR = 0.01\n",
        "training_patients = 20\n",
        "EMBED_DIM=4\n",
        "prediction_horizon = 1"
      ]
    },
    {
      "cell_type": "code",
      "execution_count": null,
      "metadata": {
        "id": "MUIefqkZDCaU"
      },
      "outputs": [],
      "source": [
        "class PositionalEncoding(nn.Module): # from https://pytorch.org/tutorials/beginner/transformer_tutorial.html\n",
        "\n",
        "    def __init__(self, d_model: int, dropout: float = 0.0, max_len: int = 500, device='cuda'):\n",
        "        super().__init__()\n",
        "        self.dropout = nn.Dropout(p=dropout)\n",
        "\n",
        "        position = torch.arange(max_len).unsqueeze(1)\n",
        "        div_term = torch.exp(torch.arange(0, d_model, 2) * (-math.log(10000.0) / d_model))\n",
        "        pe = torch.zeros(max_len, 1, d_model).to(device)\n",
        "        pe[:, 0, 0::2] = torch.sin(position * div_term)\n",
        "        pe[:, 0, 1::2] = torch.cos(position * div_term)\n",
        "        self.register_buffer('pe', pe)\n",
        "\n",
        "    def forward(self, x):\n",
        "        \"\"\"\n",
        "        Arguments:\n",
        "            x: Tensor, shape ``[seq_len, batch_size, embedding_dim]``\n",
        "        \"\"\"\n",
        "        x = x + self.pe[:x.size(0)]\n",
        "        return self.dropout(x)"
      ]
    },
    {
      "cell_type": "code",
      "execution_count": null,
      "metadata": {
        "id": "zAnO_30sHMcl"
      },
      "outputs": [],
      "source": [
        "# Define the transformer model\n",
        "class TransformerModel(nn.Module):\n",
        "    def __init__(self, embed_dim, nhead, num_layers, dim_feedforward):\n",
        "        super(TransformerModel, self).__init__()\n",
        "\n",
        "        self.embedding = nn.Embedding(500, embed_dim, device = 'cuda')\n",
        "        self.pos_encoder = PositionalEncoding(d_model = embed_dim)\n",
        "        self.transformer_encoder = nn.TransformerEncoder(\n",
        "            nn.TransformerEncoderLayer(embed_dim, nhead, dim_feedforward), num_layers)\n",
        "\n",
        "        self.linear = nn.Linear(embed_dim, 1)\n",
        "\n",
        "        self.mask_dict={}\n",
        "        for i in range(480):\n",
        "            self.mask_dict[i] = self.generate_square_subsequent_mask(i)\n",
        "\n",
        "    def generate_square_subsequent_mask(self, sz):\n",
        "        mask = (torch.triu(torch.ones(sz, sz,device=device)) == 1).transpose(0, 1)\n",
        "        mask = mask.float().masked_fill(mask == 0, float('-inf')).masked_fill(mask == 1, float(0.0))\n",
        "        return mask\n",
        "\n",
        "    def forward(self, x):\n",
        "        mask = self.mask_dict[x.size(0)]\n",
        "        x = x.type(torch.LongTensor).to(device)\n",
        "        x = self.embedding(x)\n",
        "        x = x.squeeze(2)\n",
        "        x = self.pos_encoder(x)\n",
        "        x = self.transformer_encoder(x,)# mask)\n",
        "        x = self.linear(x)\n",
        "        return x\n",
        "\n",
        "# Function to split the data\n",
        "def train_test_split(df, training_patients, prediction_horizon, device):\n",
        "    train_input = torch.from_numpy(df.iloc[:training_patients,:-prediction_horizon].values).float().to(device)\n",
        "    train_target = torch.from_numpy(df.iloc[:training_patients, prediction_horizon:].values).float().to(device)\n",
        "    test_input = torch.from_numpy(df.iloc[training_patients:,:-prediction_horizon].values).float().to(device)\n",
        "    test_target = torch.from_numpy(df.iloc[training_patients:, prediction_horizon:].values).float().to(device)\n",
        "\n",
        "    train_input = torch.unsqueeze(train_input, -1).permute(1, 0, 2)\n",
        "    train_target = torch.unsqueeze(train_target, -1).permute(1, 0, 2)\n",
        "    test_input = torch.unsqueeze(test_input, -1).permute(1, 0, 2)\n",
        "    test_target = torch.unsqueeze(test_target, -1).permute(1, 0, 2)\n",
        "    return train_input, train_target, test_input, test_target"
      ]
    },
    {
      "cell_type": "code",
      "execution_count": null,
      "metadata": {
        "colab": {
          "background_save": true,
          "base_uri": "https://localhost:8080/"
        },
        "id": "8e7X5K9wHSJv",
        "scrolled": false,
        "outputId": "856208d2-6e44-4e0f-94f5-c56a04e49829"
      },
      "outputs": [
        {
          "name": "stdout",
          "output_type": "stream",
          "text": [
            "torch.Size([479, 20, 1])\n",
            "torch.Size([479, 20, 1])\n",
            "torch.Size([479, 76, 1])\n",
            "torch.Size([479, 76, 1])\n"
          ]
        },
        {
          "name": "stderr",
          "output_type": "stream",
          "text": [
            "\r  0%|          | 0/250 [00:00<?, ?it/s]"
          ]
        },
        {
          "name": "stdout",
          "output_type": "stream",
          "text": [
            "At epoch 0, Training Loss 0.05980769917368889\n"
          ]
        },
        {
          "name": "stderr",
          "output_type": "stream",
          "text": [
            "\r  0%|          | 1/250 [00:55<3:49:44, 55.36s/it]"
          ]
        },
        {
          "name": "stdout",
          "output_type": "stream",
          "text": [
            "Test Loss at epoch 0 is 0.07222389866887652\n"
          ]
        },
        {
          "name": "stderr",
          "output_type": "stream",
          "text": [
            "  4%|▍         | 10/250 [09:23<3:46:01, 56.50s/it]"
          ]
        },
        {
          "name": "stdout",
          "output_type": "stream",
          "text": [
            "At epoch 10, Training Loss 0.050127387046813965\n"
          ]
        },
        {
          "name": "stderr",
          "output_type": "stream",
          "text": [
            "\r  4%|▍         | 11/250 [10:19<3:45:02, 56.50s/it]"
          ]
        },
        {
          "name": "stdout",
          "output_type": "stream",
          "text": [
            "Test Loss at epoch 10 is 0.06277305454731237\n"
          ]
        },
        {
          "name": "stderr",
          "output_type": "stream",
          "text": [
            "  8%|▊         | 20/250 [18:48<3:36:47, 56.55s/it]"
          ]
        },
        {
          "name": "stdout",
          "output_type": "stream",
          "text": [
            "At epoch 20, Training Loss 0.049233440309762955\n"
          ]
        },
        {
          "name": "stderr",
          "output_type": "stream",
          "text": [
            "\r  8%|▊         | 21/250 [19:45<3:36:04, 56.61s/it]"
          ]
        },
        {
          "name": "stdout",
          "output_type": "stream",
          "text": [
            "Test Loss at epoch 20 is 0.062325797329553734\n"
          ]
        },
        {
          "name": "stderr",
          "output_type": "stream",
          "text": [
            " 12%|█▏        | 30/250 [28:13<3:27:06, 56.48s/it]"
          ]
        },
        {
          "name": "stdout",
          "output_type": "stream",
          "text": [
            "At epoch 30, Training Loss 0.06289763748645782\n"
          ]
        },
        {
          "name": "stderr",
          "output_type": "stream",
          "text": [
            "\r 12%|█▏        | 31/250 [29:10<3:26:28, 56.57s/it]"
          ]
        },
        {
          "name": "stdout",
          "output_type": "stream",
          "text": [
            "Test Loss at epoch 30 is 0.06887851072969167\n"
          ]
        },
        {
          "name": "stderr",
          "output_type": "stream",
          "text": [
            " 16%|█▌        | 40/250 [37:39<3:17:56, 56.55s/it]"
          ]
        },
        {
          "name": "stdout",
          "output_type": "stream",
          "text": [
            "At epoch 40, Training Loss 0.04979042336344719\n"
          ]
        },
        {
          "name": "stderr",
          "output_type": "stream",
          "text": [
            "\r 16%|█▋        | 41/250 [38:36<3:17:01, 56.56s/it]"
          ]
        },
        {
          "name": "stdout",
          "output_type": "stream",
          "text": [
            "Test Loss at epoch 40 is 0.061642114423013185\n"
          ]
        },
        {
          "name": "stderr",
          "output_type": "stream",
          "text": [
            " 20%|██        | 50/250 [47:05<3:08:34, 56.57s/it]"
          ]
        },
        {
          "name": "stdout",
          "output_type": "stream",
          "text": [
            "At epoch 50, Training Loss 0.050339486449956894\n"
          ]
        },
        {
          "name": "stderr",
          "output_type": "stream",
          "text": [
            "\r 20%|██        | 51/250 [48:02<3:07:36, 56.57s/it]"
          ]
        },
        {
          "name": "stdout",
          "output_type": "stream",
          "text": [
            "Test Loss at epoch 50 is 0.06166296868365344\n"
          ]
        },
        {
          "name": "stderr",
          "output_type": "stream",
          "text": [
            " 24%|██▍       | 60/250 [56:30<2:58:53, 56.49s/it]"
          ]
        },
        {
          "name": "stdout",
          "output_type": "stream",
          "text": [
            "At epoch 60, Training Loss 0.04955967888236046\n"
          ]
        },
        {
          "name": "stderr",
          "output_type": "stream",
          "text": [
            "\r 24%|██▍       | 61/250 [57:27<2:58:10, 56.56s/it]"
          ]
        },
        {
          "name": "stdout",
          "output_type": "stream",
          "text": [
            "Test Loss at epoch 60 is 0.06191642437760168\n"
          ]
        },
        {
          "name": "stderr",
          "output_type": "stream",
          "text": [
            " 28%|██▊       | 70/250 [1:05:55<2:49:26, 56.48s/it]"
          ]
        },
        {
          "name": "stdout",
          "output_type": "stream",
          "text": [
            "At epoch 70, Training Loss 0.049360185861587524\n"
          ]
        },
        {
          "name": "stderr",
          "output_type": "stream",
          "text": [
            "\r 28%|██▊       | 71/250 [1:06:52<2:48:29, 56.48s/it]"
          ]
        },
        {
          "name": "stdout",
          "output_type": "stream",
          "text": [
            "Test Loss at epoch 70 is 0.061244353022045284\n"
          ]
        },
        {
          "name": "stderr",
          "output_type": "stream",
          "text": [
            " 32%|███▏      | 80/250 [1:15:20<2:40:25, 56.62s/it]"
          ]
        },
        {
          "name": "stdout",
          "output_type": "stream",
          "text": [
            "At epoch 80, Training Loss 0.049568381160497665\n"
          ]
        },
        {
          "name": "stderr",
          "output_type": "stream",
          "text": [
            "\r 32%|███▏      | 81/250 [1:16:17<2:39:35, 56.66s/it]"
          ]
        },
        {
          "name": "stdout",
          "output_type": "stream",
          "text": [
            "Test Loss at epoch 80 is 0.06272820735618566\n"
          ]
        },
        {
          "name": "stderr",
          "output_type": "stream",
          "text": [
            " 36%|███▌      | 90/250 [1:24:46<2:30:52, 56.58s/it]"
          ]
        },
        {
          "name": "stdout",
          "output_type": "stream",
          "text": [
            "At epoch 90, Training Loss 0.04944844916462898\n"
          ]
        },
        {
          "name": "stderr",
          "output_type": "stream",
          "text": [
            "\r 36%|███▋      | 91/250 [1:25:42<2:29:52, 56.56s/it]"
          ]
        },
        {
          "name": "stdout",
          "output_type": "stream",
          "text": [
            "Test Loss at epoch 90 is 0.06246163713938259\n"
          ]
        },
        {
          "name": "stderr",
          "output_type": "stream",
          "text": [
            " 40%|████      | 100/250 [1:34:13<2:22:00, 56.80s/it]"
          ]
        },
        {
          "name": "stdout",
          "output_type": "stream",
          "text": [
            "At epoch 100, Training Loss 0.04966074600815773\n"
          ]
        },
        {
          "name": "stderr",
          "output_type": "stream",
          "text": [
            "\r 40%|████      | 101/250 [1:35:10<2:21:05, 56.82s/it]"
          ]
        },
        {
          "name": "stdout",
          "output_type": "stream",
          "text": [
            "Test Loss at epoch 100 is 0.06113584625820526\n"
          ]
        },
        {
          "name": "stderr",
          "output_type": "stream",
          "text": [
            " 44%|████▍     | 110/250 [1:43:41<2:12:25, 56.75s/it]"
          ]
        },
        {
          "name": "stdout",
          "output_type": "stream",
          "text": [
            "At epoch 110, Training Loss 0.04920155927538872\n"
          ]
        },
        {
          "name": "stderr",
          "output_type": "stream",
          "text": [
            "\r 44%|████▍     | 111/250 [1:44:38<2:11:07, 56.60s/it]"
          ]
        },
        {
          "name": "stdout",
          "output_type": "stream",
          "text": [
            "Test Loss at epoch 110 is 0.06143680784174694\n"
          ]
        },
        {
          "name": "stderr",
          "output_type": "stream",
          "text": [
            " 48%|████▊     | 120/250 [1:53:07<2:02:37, 56.59s/it]"
          ]
        },
        {
          "name": "stdout",
          "output_type": "stream",
          "text": [
            "At epoch 120, Training Loss 0.04917188361287117\n"
          ]
        },
        {
          "name": "stderr",
          "output_type": "stream",
          "text": [
            "\r 48%|████▊     | 121/250 [1:54:03<2:01:20, 56.44s/it]"
          ]
        },
        {
          "name": "stdout",
          "output_type": "stream",
          "text": [
            "Test Loss at epoch 120 is 0.06158773812595638\n"
          ]
        },
        {
          "name": "stderr",
          "output_type": "stream",
          "text": [
            " 51%|█████     | 127/250 [1:59:43<1:55:57, 56.57s/it]"
          ]
        }
      ],
      "source": [
        "train_input, train_target, test_input, test_target = train_test_split(df, training_patients, prediction_horizon, device)\n",
        "print(train_input.shape)\n",
        "print(train_target.shape)\n",
        "print(test_input.shape)\n",
        "print(test_target.shape)\n",
        "\n",
        "# Initialize the model\n",
        "model = TransformerModel(embed_dim=EMBED_DIM, nhead=NHEAD, num_layers=NLAYERS, dim_feedforward=NHID).to(device)\n",
        "criterion = MeanAbsolutePercentageError().to(device)\n",
        "optimizer = torch.optim.Adam(model.parameters(), lr=LR)\n",
        "\n",
        "train_losses = []\n",
        "test_losses = []\n",
        "avg_test_losses = []\n",
        "\n",
        "\n",
        "for epoch in tqdm(range(N_EPOCHS)):\n",
        "    model.train()\n",
        "    for t in range(0, train_input.shape[0]):\n",
        "        for patient in range(training_patients):# Loop over the time steps in each epoch\n",
        "            optimizer.zero_grad()\n",
        "            output = model(train_input[:t+1,patient,:])\n",
        "            if len(output.shape) < 3:\n",
        "                output = output.unsqueeze(0)\n",
        "            loss = criterion(output, train_target[:t+1,patient,:].unsqueeze(2))\n",
        "            loss.backward()\n",
        "            optimizer.step()\n",
        "    train_losses.append(loss.item())\n",
        "\n",
        "    if epoch % 10 == 0:\n",
        "        print(f'At epoch {epoch}, Training Loss {loss.item()}')\n",
        "\n",
        "\n",
        "    model.eval()\n",
        "\n",
        "    with torch.no_grad():\n",
        "        test_losses = []  # Collect test losses at each time step\n",
        "        for t in range(0, test_input.shape[0]):\n",
        "            test_output = model(test_input[:t+1,:,:])\n",
        "            test_loss = criterion(test_output, test_target[:t+1,:,:])\n",
        "            test_losses.append(test_loss.item())\n",
        "        avg_test_loss = np.mean(test_losses)\n",
        "        avg_test_losses.append(avg_test_loss)\n",
        "\n",
        "    if epoch % 10 == 0:\n",
        "        print(f'Test Loss at epoch {epoch} is {avg_test_loss}')\n"
      ]
    },
    {
      "cell_type": "code",
      "execution_count": 1,
      "metadata": {
        "colab": {
          "base_uri": "https://localhost:8080/",
          "height": 164
        },
        "id": "JiGda_krDCaW",
        "outputId": "940162b6-c829-4ca0-ee70-c47c615d877e"
      },
      "outputs": [
        {
          "output_type": "error",
          "ename": "NameError",
          "evalue": "ignored",
          "traceback": [
            "\u001b[0;31m---------------------------------------------------------------------------\u001b[0m",
            "\u001b[0;31mNameError\u001b[0m                                 Traceback (most recent call last)",
            "\u001b[0;32m<ipython-input-1-6124965b464d>\u001b[0m in \u001b[0;36m<cell line: 1>\u001b[0;34m()\u001b[0m\n\u001b[0;32m----> 1\u001b[0;31m \u001b[0mavg_test_loss\u001b[0m\u001b[0;34m\u001b[0m\u001b[0;34m\u001b[0m\u001b[0m\n\u001b[0m",
            "\u001b[0;31mNameError\u001b[0m: name 'avg_test_loss' is not defined"
          ]
        }
      ],
      "source": [
        "avg_test_loss"
      ]
    },
    {
      "cell_type": "code",
      "execution_count": null,
      "metadata": {
        "id": "ulwN_4ZBDCaX"
      },
      "outputs": [],
      "source": [
        "train_target[:1,1,:].shape"
      ]
    },
    {
      "cell_type": "code",
      "execution_count": null,
      "metadata": {
        "id": "Ze6aH8veDCaX",
        "scrolled": true
      },
      "outputs": [],
      "source": [
        "train_target[:t+1,patient,:].shape"
      ]
    },
    {
      "cell_type": "code",
      "execution_count": null,
      "metadata": {
        "id": "rDXeWCdVuAhl"
      },
      "outputs": [],
      "source": [
        "torch.save(model, \"simpletransformer\")"
      ]
    },
    {
      "cell_type": "code",
      "execution_count": null,
      "metadata": {
        "id": "lnrMCww-b-Sq"
      },
      "outputs": [],
      "source": [
        "plt.figure()\n",
        "plt.plot(range(N_EPOCHS), train_losses, label = \"Training Loss\")\n",
        "plt.plot(range(N_EPOCHS), avg_test_losses, label = \"Test Loss\")\n",
        "plt.ylabel(\"test loss (MAPE)\")\n",
        "plt.xlabel(\"Epochs\")\n",
        "plt.xlim(1,19)\n",
        "plt.ylim([0, 1])\n",
        "plt.title(\"Transformer Loss Curve\")\n",
        "plt.legend()\n",
        "plt.show()\n",
        "print(test_losses[-1])"
      ]
    },
    {
      "cell_type": "code",
      "execution_count": null,
      "metadata": {
        "colab": {
          "base_uri": "https://localhost:8080/",
          "height": 521
        },
        "id": "ApD-pZR4Yiut",
        "outputId": "9617e94b-bd9d-4136-8fa1-d793558f883d",
        "scrolled": false
      },
      "outputs": [
        {
          "name": "stdout",
          "output_type": "stream",
          "text": [
            "torch.Size([479, 6, 1])\n",
            "torch.Size([479, 6, 1])\n"
          ]
        },
        {
          "data": {
            "image/png": "[encoded data removed]",
            "text/plain": [
              "<Figure size 1000x500 with 1 Axes>"
            ]
          },
          "metadata": {},
          "output_type": "display_data"
        }
      ],
      "source": [
        "# def draw(true, pred, index, color):\n",
        "#     true = true.detach().cpu().numpy()  # Detach the tensor from the computation graph, move it to cpu and convert to numpy array\n",
        "#     pred = pred.detach().cpu().numpy()  # Detach the tensor from the computation graph, move it to cpu and convert to numpy array\n",
        "\n",
        "#     plt.figure(figsize=(10, 5))\n",
        "#     plt.title(f\"Transformer Forecasting\")\n",
        "#     plt.xlabel(\"Time elapsed (min)\")\n",
        "#     plt.ylabel(\"Glucose mg/dL\")\n",
        "#     n = true.shape[0]\n",
        "#     plt.plot(np.arange(n*15), true[:, index], label=\"True\")\n",
        "#     plt.plot(np.arange(n*15), pred[:, index], \":\", label=\"Predicted\")\n",
        "#     plt.legend()\n",
        "#     plt.show()\n",
        "\n",
        "# print(test_target.shape)\n",
        "# print(test_output.shape)\n",
        "\n",
        "# draw(test_target, test_output, 0, 'r')\n",
        "\n",
        "\n",
        "def draw(true, pred, index, color):\n",
        "    true = true.detach().cpu().numpy()  # Detach the tensor from the computation graph, move it to cpu and convert to numpy array\n",
        "    pred = pred.detach().cpu().numpy()  # Detach the tensor from the computation graph, move it to cpu and convert to numpy array\n",
        "\n",
        "    plt.figure(figsize=(10, 5))\n",
        "    plt.title(f\"Transformer Forecasting\")\n",
        "    plt.xlabel(\"Time elapsed (min)\")\n",
        "    plt.ylabel(\"glucose level\")\n",
        "    n = true.shape[0]\n",
        "    plt.plot(np.arange(n)*15, true[:, index], color, label=\"True\")\n",
        "    plt.plot(np.arange(n)*15, pred[:, index], color + \":\", label=\"Predicted\")\n",
        "    plt.legend()\n",
        "    plt.show()\n",
        "\n",
        "print(test_target.shape)\n",
        "print(test_output.shape)\n",
        "\n",
        "draw(test_target, test_output, 0, 'b')"
      ]
    },
    {
      "cell_type": "code",
      "execution_count": null,
      "metadata": {
        "id": "8yh9zz90gueK"
      },
      "outputs": [],
      "source": []
    },
    {
      "cell_type": "markdown",
      "metadata": {
        "id": "Ddr19NL3hnOP"
      },
      "source": [
        "**Graph 2 Variable Time Horizon**"
      ]
    },
    {
      "cell_type": "code",
      "execution_count": null,
      "metadata": {
        "colab": {
          "base_uri": "https://localhost:8080/"
        },
        "id": "bN8zsZGfdvkL",
        "outputId": "807e95bd-6dba-4f2d-adf6-5aa911f135bf"
      },
      "outputs": [
        {
          "name": "stdout",
          "output_type": "stream",
          "text": [
            "Prediction Horizon: 1\n",
            "\n",
            "torch.Size([479, 90, 1])\n",
            "torch.Size([479, 90, 1])\n",
            "torch.Size([479, 6, 1])\n",
            "torch.Size([479, 6, 1])\n"
          ]
        },
        {
          "name": "stderr",
          "output_type": "stream",
          "text": [
            "\r  0%|          | 0/20 [00:00<?, ?it/s]"
          ]
        },
        {
          "name": "stdout",
          "output_type": "stream",
          "text": [
            "At epoch 0, Training Loss 0.0691264346241951\n"
          ]
        },
        {
          "name": "stderr",
          "output_type": "stream",
          "text": [
            "\r  5%|▌         | 1/20 [04:12<1:19:55, 252.41s/it]"
          ]
        },
        {
          "name": "stdout",
          "output_type": "stream",
          "text": [
            "Test Loss at epoch 0 is 0.05533827036339206\n"
          ]
        },
        {
          "name": "stderr",
          "output_type": "stream",
          "text": [
            " 50%|█████     | 10/20 [41:26<41:19, 247.97s/it]"
          ]
        },
        {
          "name": "stdout",
          "output_type": "stream",
          "text": [
            "At epoch 10, Training Loss 0.06781276315450668\n"
          ]
        },
        {
          "name": "stderr",
          "output_type": "stream",
          "text": [
            "\r 55%|█████▌    | 11/20 [45:33<37:09, 247.70s/it]"
          ]
        },
        {
          "name": "stdout",
          "output_type": "stream",
          "text": [
            "Test Loss at epoch 10 is 0.06022575108766058\n"
          ]
        },
        {
          "name": "stderr",
          "output_type": "stream",
          "text": [
            "100%|██████████| 20/20 [1:22:36<00:00, 247.82s/it]\n"
          ]
        },
        {
          "name": "stdout",
          "output_type": "stream",
          "text": [
            "Prediction Horizon: 2\n",
            "\n",
            "torch.Size([478, 90, 1])\n",
            "torch.Size([478, 90, 1])\n",
            "torch.Size([478, 6, 1])\n",
            "torch.Size([478, 6, 1])\n"
          ]
        },
        {
          "name": "stderr",
          "output_type": "stream",
          "text": [
            "\r  0%|          | 0/20 [00:00<?, ?it/s]"
          ]
        },
        {
          "name": "stdout",
          "output_type": "stream",
          "text": [
            "At epoch 0, Training Loss 0.17790476977825165\n"
          ]
        },
        {
          "name": "stderr",
          "output_type": "stream",
          "text": [
            "\r  5%|▌         | 1/20 [04:01<1:16:22, 241.21s/it]"
          ]
        },
        {
          "name": "stdout",
          "output_type": "stream",
          "text": [
            "Test Loss at epoch 0 is 0.20591093839835922\n"
          ]
        },
        {
          "name": "stderr",
          "output_type": "stream",
          "text": [
            " 50%|█████     | 10/20 [40:04<40:06, 240.62s/it]"
          ]
        },
        {
          "name": "stdout",
          "output_type": "stream",
          "text": [
            "At epoch 10, Training Loss 0.12069976329803467\n"
          ]
        },
        {
          "name": "stderr",
          "output_type": "stream",
          "text": [
            "\r 55%|█████▌    | 11/20 [44:06<36:09, 241.09s/it]"
          ]
        },
        {
          "name": "stdout",
          "output_type": "stream",
          "text": [
            "Test Loss at epoch 10 is 0.09678586446154068\n"
          ]
        },
        {
          "name": "stderr",
          "output_type": "stream",
          "text": [
            "100%|██████████| 20/20 [1:20:35<00:00, 241.75s/it]\n"
          ]
        },
        {
          "name": "stdout",
          "output_type": "stream",
          "text": [
            "Prediction Horizon: 3\n",
            "\n",
            "torch.Size([477, 90, 1])\n",
            "torch.Size([477, 90, 1])\n",
            "torch.Size([477, 6, 1])\n",
            "torch.Size([477, 6, 1])\n"
          ]
        },
        {
          "name": "stderr",
          "output_type": "stream",
          "text": [
            "\r  0%|          | 0/20 [00:00<?, ?it/s]"
          ]
        },
        {
          "name": "stdout",
          "output_type": "stream",
          "text": [
            "At epoch 0, Training Loss 0.1606065183877945\n"
          ]
        },
        {
          "name": "stderr",
          "output_type": "stream",
          "text": [
            "\r  5%|▌         | 1/20 [04:00<1:16:08, 240.42s/it]"
          ]
        },
        {
          "name": "stdout",
          "output_type": "stream",
          "text": [
            "Test Loss at epoch 0 is 0.137310420129784\n"
          ]
        },
        {
          "name": "stderr",
          "output_type": "stream",
          "text": [
            " 50%|█████     | 10/20 [40:29<40:38, 243.90s/it]"
          ]
        },
        {
          "name": "stdout",
          "output_type": "stream",
          "text": [
            "At epoch 10, Training Loss 0.15351836383342743\n"
          ]
        },
        {
          "name": "stderr",
          "output_type": "stream",
          "text": [
            "\r 55%|█████▌    | 11/20 [44:30<36:26, 242.90s/it]"
          ]
        },
        {
          "name": "stdout",
          "output_type": "stream",
          "text": [
            "Test Loss at epoch 10 is 0.12417537884579764\n"
          ]
        },
        {
          "name": "stderr",
          "output_type": "stream",
          "text": [
            "100%|██████████| 20/20 [1:22:52<00:00, 248.64s/it]\n"
          ]
        },
        {
          "name": "stdout",
          "output_type": "stream",
          "text": [
            "Prediction Horizon: 4\n",
            "\n",
            "torch.Size([476, 90, 1])\n",
            "torch.Size([476, 90, 1])\n",
            "torch.Size([476, 6, 1])\n",
            "torch.Size([476, 6, 1])\n"
          ]
        },
        {
          "name": "stderr",
          "output_type": "stream",
          "text": [
            "\r  0%|          | 0/20 [00:00<?, ?it/s]"
          ]
        },
        {
          "name": "stdout",
          "output_type": "stream",
          "text": [
            "At epoch 0, Training Loss 0.20848427712917328\n"
          ]
        },
        {
          "name": "stderr",
          "output_type": "stream",
          "text": [
            "\r  5%|▌         | 1/20 [04:16<1:21:11, 256.37s/it]"
          ]
        },
        {
          "name": "stdout",
          "output_type": "stream",
          "text": [
            "Test Loss at epoch 0 is 0.22701113555236024\n"
          ]
        },
        {
          "name": "stderr",
          "output_type": "stream",
          "text": [
            " 50%|█████     | 10/20 [41:24<40:52, 245.20s/it]"
          ]
        },
        {
          "name": "stdout",
          "output_type": "stream",
          "text": [
            "At epoch 10, Training Loss 0.22944527864456177\n"
          ]
        },
        {
          "name": "stderr",
          "output_type": "stream",
          "text": [
            "\r 55%|█████▌    | 11/20 [45:26<36:38, 244.26s/it]"
          ]
        },
        {
          "name": "stdout",
          "output_type": "stream",
          "text": [
            "Test Loss at epoch 10 is 0.22672514000735364\n"
          ]
        },
        {
          "name": "stderr",
          "output_type": "stream",
          "text": [
            "100%|██████████| 20/20 [1:21:53<00:00, 245.67s/it]\n"
          ]
        },
        {
          "name": "stdout",
          "output_type": "stream",
          "text": [
            "Prediction Horizon: 5\n",
            "\n",
            "torch.Size([475, 90, 1])\n",
            "torch.Size([475, 90, 1])\n",
            "torch.Size([475, 6, 1])\n",
            "torch.Size([475, 6, 1])\n"
          ]
        },
        {
          "name": "stderr",
          "output_type": "stream",
          "text": [
            "\r  0%|          | 0/20 [00:00<?, ?it/s]"
          ]
        },
        {
          "name": "stdout",
          "output_type": "stream",
          "text": [
            "At epoch 0, Training Loss 0.20389537513256073\n"
          ]
        },
        {
          "name": "stderr",
          "output_type": "stream",
          "text": [
            "\r  5%|▌         | 1/20 [03:59<1:15:55, 239.76s/it]"
          ]
        },
        {
          "name": "stdout",
          "output_type": "stream",
          "text": [
            "Test Loss at epoch 0 is 0.16144604187262684\n"
          ]
        },
        {
          "name": "stderr",
          "output_type": "stream",
          "text": [
            " 50%|█████     | 10/20 [40:49<40:44, 244.46s/it]"
          ]
        },
        {
          "name": "stdout",
          "output_type": "stream",
          "text": [
            "At epoch 10, Training Loss 0.20683448016643524\n"
          ]
        },
        {
          "name": "stderr",
          "output_type": "stream",
          "text": [
            "\r 55%|█████▌    | 11/20 [44:52<36:37, 244.19s/it]"
          ]
        },
        {
          "name": "stdout",
          "output_type": "stream",
          "text": [
            "Test Loss at epoch 10 is 0.15975346668770438\n"
          ]
        },
        {
          "name": "stderr",
          "output_type": "stream",
          "text": [
            "100%|██████████| 20/20 [1:21:28<00:00, 244.42s/it]\n"
          ]
        },
        {
          "name": "stdout",
          "output_type": "stream",
          "text": [
            "Prediction Horizon: 6\n",
            "\n",
            "torch.Size([474, 90, 1])\n",
            "torch.Size([474, 90, 1])\n",
            "torch.Size([474, 6, 1])\n",
            "torch.Size([474, 6, 1])\n"
          ]
        },
        {
          "name": "stderr",
          "output_type": "stream",
          "text": [
            "\r  0%|          | 0/20 [00:00<?, ?it/s]"
          ]
        },
        {
          "name": "stdout",
          "output_type": "stream",
          "text": [
            "At epoch 0, Training Loss 0.217023566365242\n"
          ]
        },
        {
          "name": "stderr",
          "output_type": "stream",
          "text": [
            "\r  5%|▌         | 1/20 [04:04<1:17:33, 244.91s/it]"
          ]
        },
        {
          "name": "stdout",
          "output_type": "stream",
          "text": [
            "Test Loss at epoch 0 is 0.18072689931352431\n"
          ]
        },
        {
          "name": "stderr",
          "output_type": "stream",
          "text": [
            " 50%|█████     | 10/20 [41:00<40:46, 244.62s/it]"
          ]
        },
        {
          "name": "stdout",
          "output_type": "stream",
          "text": [
            "At epoch 10, Training Loss 0.21986503899097443\n"
          ]
        },
        {
          "name": "stderr",
          "output_type": "stream",
          "text": [
            "\r 55%|█████▌    | 11/20 [45:01<36:32, 243.66s/it]"
          ]
        },
        {
          "name": "stdout",
          "output_type": "stream",
          "text": [
            "Test Loss at epoch 10 is 0.17516913315289132\n"
          ]
        },
        {
          "name": "stderr",
          "output_type": "stream",
          "text": [
            "100%|██████████| 20/20 [1:21:32<00:00, 244.62s/it]\n"
          ]
        },
        {
          "name": "stdout",
          "output_type": "stream",
          "text": [
            "Prediction Horizon: 7\n",
            "\n",
            "torch.Size([473, 90, 1])\n",
            "torch.Size([473, 90, 1])\n",
            "torch.Size([473, 6, 1])\n",
            "torch.Size([473, 6, 1])\n"
          ]
        },
        {
          "name": "stderr",
          "output_type": "stream",
          "text": [
            "\r  0%|          | 0/20 [00:00<?, ?it/s]"
          ]
        },
        {
          "name": "stdout",
          "output_type": "stream",
          "text": [
            "At epoch 0, Training Loss 0.24344012141227722\n"
          ]
        },
        {
          "name": "stderr",
          "output_type": "stream",
          "text": [
            "\r  5%|▌         | 1/20 [04:07<1:18:30, 247.90s/it]"
          ]
        },
        {
          "name": "stdout",
          "output_type": "stream",
          "text": [
            "Test Loss at epoch 0 is 0.2707927166533521\n"
          ]
        },
        {
          "name": "stderr",
          "output_type": "stream",
          "text": [
            " 50%|█████     | 10/20 [40:41<40:35, 243.59s/it]"
          ]
        },
        {
          "name": "stdout",
          "output_type": "stream",
          "text": [
            "At epoch 10, Training Loss 0.22776900231838226\n"
          ]
        },
        {
          "name": "stderr",
          "output_type": "stream",
          "text": [
            "\r 55%|█████▌    | 11/20 [44:43<36:28, 243.16s/it]"
          ]
        },
        {
          "name": "stdout",
          "output_type": "stream",
          "text": [
            "Test Loss at epoch 10 is 0.20670666440092736\n"
          ]
        },
        {
          "name": "stderr",
          "output_type": "stream",
          "text": [
            "100%|██████████| 20/20 [1:21:39<00:00, 245.00s/it]\n"
          ]
        },
        {
          "name": "stdout",
          "output_type": "stream",
          "text": [
            "Prediction Horizon: 8\n",
            "\n",
            "torch.Size([472, 90, 1])\n",
            "torch.Size([472, 90, 1])\n",
            "torch.Size([472, 6, 1])\n",
            "torch.Size([472, 6, 1])\n"
          ]
        },
        {
          "name": "stderr",
          "output_type": "stream",
          "text": [
            "\r  0%|          | 0/20 [00:00<?, ?it/s]"
          ]
        },
        {
          "name": "stdout",
          "output_type": "stream",
          "text": [
            "At epoch 0, Training Loss 0.27971598505973816\n"
          ]
        },
        {
          "name": "stderr",
          "output_type": "stream",
          "text": [
            "\r  5%|▌         | 1/20 [04:12<1:19:50, 252.11s/it]"
          ]
        },
        {
          "name": "stdout",
          "output_type": "stream",
          "text": [
            "Test Loss at epoch 0 is 0.27359557492753206\n"
          ]
        },
        {
          "name": "stderr",
          "output_type": "stream",
          "text": [
            " 50%|█████     | 10/20 [41:14<40:47, 244.74s/it]"
          ]
        },
        {
          "name": "stdout",
          "output_type": "stream",
          "text": [
            "At epoch 10, Training Loss 0.23484216630458832\n"
          ]
        },
        {
          "name": "stderr",
          "output_type": "stream",
          "text": [
            "\r 55%|█████▌    | 11/20 [45:17<36:37, 244.15s/it]"
          ]
        },
        {
          "name": "stdout",
          "output_type": "stream",
          "text": [
            "Test Loss at epoch 10 is 0.20385817754066596\n"
          ]
        },
        {
          "name": "stderr",
          "output_type": "stream",
          "text": [
            "100%|██████████| 20/20 [1:22:11<00:00, 246.56s/it]\n"
          ]
        }
      ],
      "source": [
        "final_test_losses = []\n",
        "\n",
        "prediction_horizons = range(1, 9)\n",
        "\n",
        "for prediction_horizon in prediction_horizons:\n",
        "  print(f'Prediction Horizon: {prediction_horizon}\\n')\n",
        "  train_input, train_target, test_input, test_target = train_test_split(df, training_patients, prediction_horizon, device)\n",
        "  print(train_input.shape)\n",
        "  print(train_target.shape)\n",
        "  print(test_input.shape)\n",
        "  print(test_target.shape)\n",
        "\n",
        "  # Initialize the model\n",
        "  model = TransformerModel(embed_dim=EMBED_DIM, nhead=NHEAD, num_layers=NLAYERS, dim_feedforward=NHID).to(device)\n",
        "  criterion = MeanAbsolutePercentageError().to(device)\n",
        "  optimizer = torch.optim.Adam(model.parameters(), lr=LR)\n",
        "\n",
        "  train_losses = []\n",
        "  test_losses = []\n",
        "  avg_test_losses = []\n",
        "\n",
        "\n",
        "  for epoch in tqdm(range(N_EPOCHS)):\n",
        "      model.train()\n",
        "      for t in range(0, train_input.shape[0]):\n",
        "          for patient in range(training_patients):# Loop over the time steps in each epoch\n",
        "              optimizer.zero_grad()\n",
        "              output = model(train_input[:t+1,patient,:])\n",
        "              if len(output.shape) < 3:\n",
        "                  output = output.unsqueeze(0)\n",
        "              loss = criterion(output, train_target[:t+1,patient,:].unsqueeze(2))\n",
        "              loss.backward()\n",
        "              optimizer.step()\n",
        "      train_losses.append(loss.item())\n",
        "\n",
        "      if epoch % 10 == 0:\n",
        "          print(f'At epoch {epoch}, Training Loss {loss.item()}')\n",
        "\n",
        "\n",
        "      model.eval()\n",
        "\n",
        "      with torch.no_grad():\n",
        "          test_losses = []  # Collect test losses at each time step\n",
        "          for t in range(0, test_input.shape[0]):\n",
        "              test_output = model(test_input[:t+1,:,:])\n",
        "              test_loss = criterion(test_output, test_target[:t+1,:,:])\n",
        "              test_losses.append(test_loss.item())\n",
        "          avg_test_loss = np.mean(test_losses)\n",
        "          avg_test_losses.append(avg_test_loss)\n",
        "\n",
        "      if epoch % 10 == 0:\n",
        "          print(f'Test Loss at epoch {epoch} is {avg_test_loss}')\n",
        "  final_test_losses.append(avg_test_losses[-1])"
      ]
    },
    {
      "cell_type": "code",
      "execution_count": null,
      "metadata": {
        "colab": {
          "base_uri": "https://localhost:8080/"
        },
        "id": "j5sJgiX9iN0N",
        "outputId": "88d2d104-1e38-45fb-9586-bebf8ac048ad"
      },
      "outputs": [
        {
          "data": {
            "text/plain": [
              "[0.05450725907728169,\n",
              " 0.09783832851999973,\n",
              " 0.12412750263321574,\n",
              " 0.1923755243295381,\n",
              " 0.16239501968810433,\n",
              " 0.17350894259878352,\n",
              " 0.21618168626224768,\n",
              " 0.22463695742821288]"
            ]
          },
          "execution_count": 24,
          "metadata": {},
          "output_type": "execute_result"
        }
      ],
      "source": [
        "final_test_losses"
      ]
    },
    {
      "cell_type": "code",
      "execution_count": null,
      "metadata": {
        "colab": {
          "base_uri": "https://localhost:8080/",
          "height": 472
        },
        "id": "_LxzBAgXlF9g",
        "outputId": "8f8170df-db93-4710-b4e7-9e401e72d2ee"
      },
      "outputs": [
        {
          "data": {
            "image/png": "[encoded data removed]",
            "text/plain": [
              "<Figure size 640x480 with 1 Axes>"
            ]
          },
          "metadata": {},
          "output_type": "display_data"
        }
      ],
      "source": [
        "# Training Curve\n",
        "plt.figure()\n",
        "plt.plot([15*x for x in prediction_horizons],final_test_losses, label = \"Transformer\")\n",
        "plt.ylabel(\"test loss (MAPE)\")\n",
        "plt.xlabel(\"Prediction Horizon (minutes)\")\n",
        "plt.title(\"Transformer MAPE vs Prediction Horizon\")\n",
        "plt.legend()\n",
        "plt.show()"
      ]
    },
    {
      "cell_type": "markdown",
      "metadata": {
        "id": "tDfqql7MwdZI"
      },
      "source": [
        "Graph 3 Variable Training Patients"
      ]
    },
    {
      "cell_type": "code",
      "execution_count": null,
      "metadata": {
        "colab": {
          "base_uri": "https://localhost:8080/"
        },
        "id": "yHBETJmalWW8",
        "outputId": "2c34fa70-7c84-4420-8e77-2d7dd4c86f5a"
      },
      "outputs": [
        {
          "name": "stdout",
          "output_type": "stream",
          "text": [
            "torch.Size([477, 1, 1])\n",
            "torch.Size([477, 1, 1])\n",
            "torch.Size([477, 95, 1])\n",
            "torch.Size([477, 95, 1])\n"
          ]
        },
        {
          "name": "stderr",
          "output_type": "stream",
          "text": [
            "\r  0%|          | 0/20 [00:00<?, ?it/s]"
          ]
        },
        {
          "name": "stdout",
          "output_type": "stream",
          "text": [
            "At epoch 0, Training Loss 0.1809181123971939\n"
          ]
        },
        {
          "name": "stderr",
          "output_type": "stream",
          "text": [
            "\r  5%|▌         | 1/20 [00:03<01:12,  3.80s/it]"
          ]
        },
        {
          "name": "stdout",
          "output_type": "stream",
          "text": [
            "Test Loss at epoch 0 is 0.2890961960551624\n"
          ]
        },
        {
          "name": "stderr",
          "output_type": "stream",
          "text": [
            " 50%|█████     | 10/20 [00:52<00:53,  5.40s/it]"
          ]
        },
        {
          "name": "stdout",
          "output_type": "stream",
          "text": [
            "At epoch 10, Training Loss 0.11656385660171509\n"
          ]
        },
        {
          "name": "stderr",
          "output_type": "stream",
          "text": [
            "\r 55%|█████▌    | 11/20 [00:57<00:48,  5.41s/it]"
          ]
        },
        {
          "name": "stdout",
          "output_type": "stream",
          "text": [
            "Test Loss at epoch 10 is 0.30319776243883606\n"
          ]
        },
        {
          "name": "stderr",
          "output_type": "stream",
          "text": [
            "100%|██████████| 20/20 [01:46<00:00,  5.33s/it]\n"
          ]
        },
        {
          "name": "stdout",
          "output_type": "stream",
          "text": [
            "torch.Size([477, 10, 1])\n",
            "torch.Size([477, 10, 1])\n",
            "torch.Size([477, 86, 1])\n",
            "torch.Size([477, 86, 1])\n"
          ]
        },
        {
          "name": "stderr",
          "output_type": "stream",
          "text": [
            "\r  0%|          | 0/20 [00:00<?, ?it/s]"
          ]
        },
        {
          "name": "stdout",
          "output_type": "stream",
          "text": [
            "At epoch 0, Training Loss 0.12732158601284027\n"
          ]
        },
        {
          "name": "stderr",
          "output_type": "stream",
          "text": [
            "\r  5%|▌         | 1/20 [00:29<09:26, 29.81s/it]"
          ]
        },
        {
          "name": "stdout",
          "output_type": "stream",
          "text": [
            "Test Loss at epoch 0 is 0.16971379899628758\n"
          ]
        },
        {
          "name": "stderr",
          "output_type": "stream",
          "text": [
            " 50%|█████     | 10/20 [04:59<04:59, 29.90s/it]"
          ]
        },
        {
          "name": "stdout",
          "output_type": "stream",
          "text": [
            "At epoch 10, Training Loss 0.11890427023172379\n"
          ]
        },
        {
          "name": "stderr",
          "output_type": "stream",
          "text": [
            "\r 55%|█████▌    | 11/20 [05:29<04:29, 29.92s/it]"
          ]
        },
        {
          "name": "stdout",
          "output_type": "stream",
          "text": [
            "Test Loss at epoch 10 is 0.1472607393684627\n"
          ]
        },
        {
          "name": "stderr",
          "output_type": "stream",
          "text": [
            "100%|██████████| 20/20 [09:58<00:00, 29.91s/it]\n"
          ]
        },
        {
          "name": "stdout",
          "output_type": "stream",
          "text": [
            "torch.Size([477, 20, 1])\n",
            "torch.Size([477, 20, 1])\n",
            "torch.Size([477, 76, 1])\n",
            "torch.Size([477, 76, 1])\n"
          ]
        },
        {
          "name": "stderr",
          "output_type": "stream",
          "text": [
            "\r  0%|          | 0/20 [00:00<?, ?it/s]"
          ]
        },
        {
          "name": "stdout",
          "output_type": "stream",
          "text": [
            "At epoch 0, Training Loss 0.1358174830675125\n"
          ]
        },
        {
          "name": "stderr",
          "output_type": "stream",
          "text": [
            "\r  5%|▌         | 1/20 [00:56<18:00, 56.85s/it]"
          ]
        },
        {
          "name": "stdout",
          "output_type": "stream",
          "text": [
            "Test Loss at epoch 0 is 0.16610045799794187\n"
          ]
        },
        {
          "name": "stderr",
          "output_type": "stream",
          "text": [
            " 50%|█████     | 10/20 [09:30<09:28, 56.89s/it]"
          ]
        },
        {
          "name": "stdout",
          "output_type": "stream",
          "text": [
            "At epoch 10, Training Loss 0.12935739755630493\n"
          ]
        },
        {
          "name": "stderr",
          "output_type": "stream",
          "text": [
            "\r 55%|█████▌    | 11/20 [10:26<08:31, 56.84s/it]"
          ]
        },
        {
          "name": "stdout",
          "output_type": "stream",
          "text": [
            "Test Loss at epoch 10 is 0.14155601577313942\n"
          ]
        },
        {
          "name": "stderr",
          "output_type": "stream",
          "text": [
            "100%|██████████| 20/20 [18:56<00:00, 56.85s/it]\n"
          ]
        },
        {
          "name": "stdout",
          "output_type": "stream",
          "text": [
            "torch.Size([477, 30, 1])\n",
            "torch.Size([477, 30, 1])\n",
            "torch.Size([477, 66, 1])\n",
            "torch.Size([477, 66, 1])\n"
          ]
        },
        {
          "name": "stderr",
          "output_type": "stream",
          "text": [
            "\r  0%|          | 0/20 [00:00<?, ?it/s]"
          ]
        },
        {
          "name": "stdout",
          "output_type": "stream",
          "text": [
            "At epoch 0, Training Loss 0.10729730874300003\n"
          ]
        },
        {
          "name": "stderr",
          "output_type": "stream",
          "text": [
            "\r  5%|▌         | 1/20 [01:23<26:25, 83.43s/it]"
          ]
        },
        {
          "name": "stdout",
          "output_type": "stream",
          "text": [
            "Test Loss at epoch 0 is 0.16071447939367914\n"
          ]
        },
        {
          "name": "stderr",
          "output_type": "stream",
          "text": [
            " 50%|█████     | 10/20 [13:54<13:55, 83.56s/it]"
          ]
        },
        {
          "name": "stdout",
          "output_type": "stream",
          "text": [
            "At epoch 10, Training Loss 0.09259320795536041\n"
          ]
        },
        {
          "name": "stderr",
          "output_type": "stream",
          "text": [
            "\r 55%|█████▌    | 11/20 [15:17<12:30, 83.34s/it]"
          ]
        },
        {
          "name": "stdout",
          "output_type": "stream",
          "text": [
            "Test Loss at epoch 10 is 0.13430410473601623\n"
          ]
        },
        {
          "name": "stderr",
          "output_type": "stream",
          "text": [
            "100%|██████████| 20/20 [27:46<00:00, 83.31s/it]\n"
          ]
        },
        {
          "name": "stdout",
          "output_type": "stream",
          "text": [
            "torch.Size([477, 40, 1])\n",
            "torch.Size([477, 40, 1])\n",
            "torch.Size([477, 56, 1])\n",
            "torch.Size([477, 56, 1])\n"
          ]
        },
        {
          "name": "stderr",
          "output_type": "stream",
          "text": [
            "\r  0%|          | 0/20 [00:00<?, ?it/s]"
          ]
        },
        {
          "name": "stdout",
          "output_type": "stream",
          "text": [
            "At epoch 0, Training Loss 0.16066765785217285\n"
          ]
        },
        {
          "name": "stderr",
          "output_type": "stream",
          "text": [
            "\r  5%|▌         | 1/20 [01:49<34:42, 109.58s/it]"
          ]
        },
        {
          "name": "stdout",
          "output_type": "stream",
          "text": [
            "Test Loss at epoch 0 is 0.14420778099720832\n"
          ]
        },
        {
          "name": "stderr",
          "output_type": "stream",
          "text": [
            " 50%|█████     | 10/20 [18:20<18:21, 110.17s/it]"
          ]
        },
        {
          "name": "stdout",
          "output_type": "stream",
          "text": [
            "At epoch 10, Training Loss 0.16023403406143188\n"
          ]
        },
        {
          "name": "stderr",
          "output_type": "stream",
          "text": [
            "\r 55%|█████▌    | 11/20 [20:10<16:31, 110.17s/it]"
          ]
        },
        {
          "name": "stdout",
          "output_type": "stream",
          "text": [
            "Test Loss at epoch 10 is 0.1332566513361671\n"
          ]
        },
        {
          "name": "stderr",
          "output_type": "stream",
          "text": [
            "100%|██████████| 20/20 [36:41<00:00, 110.08s/it]\n"
          ]
        },
        {
          "name": "stdout",
          "output_type": "stream",
          "text": [
            "torch.Size([477, 50, 1])\n",
            "torch.Size([477, 50, 1])\n",
            "torch.Size([477, 46, 1])\n",
            "torch.Size([477, 46, 1])\n"
          ]
        },
        {
          "name": "stderr",
          "output_type": "stream",
          "text": [
            "\r  0%|          | 0/20 [00:00<?, ?it/s]"
          ]
        },
        {
          "name": "stdout",
          "output_type": "stream",
          "text": [
            "At epoch 0, Training Loss 0.12282729893922806\n"
          ]
        },
        {
          "name": "stderr",
          "output_type": "stream",
          "text": [
            "\r  5%|▌         | 1/20 [02:16<43:13, 136.48s/it]"
          ]
        },
        {
          "name": "stdout",
          "output_type": "stream",
          "text": [
            "Test Loss at epoch 0 is 0.15362726514319452\n"
          ]
        },
        {
          "name": "stderr",
          "output_type": "stream",
          "text": [
            " 50%|█████     | 10/20 [22:52<22:54, 137.42s/it]"
          ]
        },
        {
          "name": "stdout",
          "output_type": "stream",
          "text": [
            "At epoch 10, Training Loss 0.12797711789608002\n"
          ]
        },
        {
          "name": "stderr",
          "output_type": "stream",
          "text": [
            "\r 55%|█████▌    | 11/20 [25:10<20:36, 137.35s/it]"
          ]
        },
        {
          "name": "stdout",
          "output_type": "stream",
          "text": [
            "Test Loss at epoch 10 is 0.14124653877327278\n"
          ]
        },
        {
          "name": "stderr",
          "output_type": "stream",
          "text": [
            "100%|██████████| 20/20 [45:36<00:00, 136.83s/it]\n"
          ]
        },
        {
          "name": "stdout",
          "output_type": "stream",
          "text": [
            "torch.Size([477, 60, 1])\n",
            "torch.Size([477, 60, 1])\n",
            "torch.Size([477, 36, 1])\n",
            "torch.Size([477, 36, 1])\n"
          ]
        },
        {
          "name": "stderr",
          "output_type": "stream",
          "text": [
            "\r  0%|          | 0/20 [00:00<?, ?it/s]"
          ]
        },
        {
          "name": "stdout",
          "output_type": "stream",
          "text": [
            "At epoch 0, Training Loss 0.14280590415000916\n"
          ]
        },
        {
          "name": "stderr",
          "output_type": "stream",
          "text": [
            "\r  5%|▌         | 1/20 [02:43<51:42, 163.29s/it]"
          ]
        },
        {
          "name": "stdout",
          "output_type": "stream",
          "text": [
            "Test Loss at epoch 0 is 0.13566820089172268\n"
          ]
        },
        {
          "name": "stderr",
          "output_type": "stream",
          "text": [
            " 50%|█████     | 10/20 [27:17<27:20, 164.01s/it]"
          ]
        },
        {
          "name": "stdout",
          "output_type": "stream",
          "text": [
            "At epoch 10, Training Loss 0.14399230480194092\n"
          ]
        },
        {
          "name": "stderr",
          "output_type": "stream",
          "text": [
            "\r 55%|█████▌    | 11/20 [30:02<24:36, 164.07s/it]"
          ]
        },
        {
          "name": "stdout",
          "output_type": "stream",
          "text": [
            "Test Loss at epoch 10 is 0.12387574985779556\n"
          ]
        },
        {
          "name": "stderr",
          "output_type": "stream",
          "text": [
            "100%|██████████| 20/20 [55:22<00:00, 166.10s/it]\n"
          ]
        },
        {
          "name": "stdout",
          "output_type": "stream",
          "text": [
            "torch.Size([477, 70, 1])\n",
            "torch.Size([477, 70, 1])\n",
            "torch.Size([477, 26, 1])\n",
            "torch.Size([477, 26, 1])\n"
          ]
        },
        {
          "name": "stderr",
          "output_type": "stream",
          "text": [
            "\r  0%|          | 0/20 [00:00<?, ?it/s]"
          ]
        },
        {
          "name": "stdout",
          "output_type": "stream",
          "text": [
            "At epoch 0, Training Loss 0.10903153568506241\n"
          ]
        },
        {
          "name": "stderr",
          "output_type": "stream",
          "text": [
            "\r  5%|▌         | 1/20 [03:17<1:02:35, 197.65s/it]"
          ]
        },
        {
          "name": "stdout",
          "output_type": "stream",
          "text": [
            "Test Loss at epoch 0 is 0.12690145897228014\n"
          ]
        },
        {
          "name": "stderr",
          "output_type": "stream",
          "text": [
            " 50%|█████     | 10/20 [32:48<32:46, 196.67s/it]"
          ]
        },
        {
          "name": "stdout",
          "output_type": "stream",
          "text": [
            "At epoch 10, Training Loss 0.10401029139757156\n"
          ]
        },
        {
          "name": "stderr",
          "output_type": "stream",
          "text": [
            "\r 55%|█████▌    | 11/20 [36:08<29:40, 197.86s/it]"
          ]
        },
        {
          "name": "stdout",
          "output_type": "stream",
          "text": [
            "Test Loss at epoch 10 is 0.12457934684223598\n"
          ]
        },
        {
          "name": "stderr",
          "output_type": "stream",
          "text": [
            "100%|██████████| 20/20 [1:05:49<00:00, 197.50s/it]\n"
          ]
        },
        {
          "name": "stdout",
          "output_type": "stream",
          "text": [
            "torch.Size([477, 80, 1])\n",
            "torch.Size([477, 80, 1])\n",
            "torch.Size([477, 16, 1])\n",
            "torch.Size([477, 16, 1])\n"
          ]
        },
        {
          "name": "stderr",
          "output_type": "stream",
          "text": [
            "\r  0%|          | 0/20 [00:00<?, ?it/s]"
          ]
        },
        {
          "name": "stdout",
          "output_type": "stream",
          "text": [
            "At epoch 0, Training Loss 0.09342468529939651\n"
          ]
        },
        {
          "name": "stderr",
          "output_type": "stream",
          "text": [
            "\r  5%|▌         | 1/20 [03:45<1:11:23, 225.44s/it]"
          ]
        },
        {
          "name": "stdout",
          "output_type": "stream",
          "text": [
            "Test Loss at epoch 0 is 0.14686404505990586\n"
          ]
        },
        {
          "name": "stderr",
          "output_type": "stream",
          "text": [
            " 50%|█████     | 10/20 [37:45<37:48, 226.89s/it]"
          ]
        },
        {
          "name": "stdout",
          "output_type": "stream",
          "text": [
            "At epoch 10, Training Loss 0.08590568602085114\n"
          ]
        },
        {
          "name": "stderr",
          "output_type": "stream",
          "text": [
            "\r 55%|█████▌    | 11/20 [41:31<33:59, 226.62s/it]"
          ]
        },
        {
          "name": "stdout",
          "output_type": "stream",
          "text": [
            "Test Loss at epoch 10 is 0.12643573865825525\n"
          ]
        },
        {
          "name": "stderr",
          "output_type": "stream",
          "text": [
            "100%|██████████| 20/20 [1:15:48<00:00, 227.42s/it]\n"
          ]
        },
        {
          "name": "stdout",
          "output_type": "stream",
          "text": [
            "torch.Size([477, 90, 1])\n",
            "torch.Size([477, 90, 1])\n",
            "torch.Size([477, 6, 1])\n",
            "torch.Size([477, 6, 1])\n"
          ]
        },
        {
          "name": "stderr",
          "output_type": "stream",
          "text": [
            "\r  0%|          | 0/20 [00:00<?, ?it/s]"
          ]
        },
        {
          "name": "stdout",
          "output_type": "stream",
          "text": [
            "At epoch 0, Training Loss 0.1542309820652008\n"
          ]
        },
        {
          "name": "stderr",
          "output_type": "stream",
          "text": [
            "\r  5%|▌         | 1/20 [04:13<1:20:17, 253.58s/it]"
          ]
        },
        {
          "name": "stdout",
          "output_type": "stream",
          "text": [
            "Test Loss at epoch 0 is 0.1255960100695522\n"
          ]
        },
        {
          "name": "stderr",
          "output_type": "stream",
          "text": [
            " 50%|█████     | 10/20 [42:36<42:33, 255.34s/it]"
          ]
        },
        {
          "name": "stdout",
          "output_type": "stream",
          "text": [
            "At epoch 10, Training Loss 0.15356607735157013\n"
          ]
        },
        {
          "name": "stderr",
          "output_type": "stream",
          "text": [
            "\r 55%|█████▌    | 11/20 [46:51<38:16, 255.12s/it]"
          ]
        },
        {
          "name": "stdout",
          "output_type": "stream",
          "text": [
            "Test Loss at epoch 10 is 0.12259121439117056\n"
          ]
        },
        {
          "name": "stderr",
          "output_type": "stream",
          "text": [
            "100%|██████████| 20/20 [1:25:17<00:00, 255.86s/it]\n"
          ]
        }
      ],
      "source": [
        "training_patients_sizes = [1,10,20,30,40,50,60,70,80,90]\n",
        "\n",
        "final_test_losses = []\n",
        "prediction_horizon = 3\n",
        "\n",
        "\n",
        "for training_patients in training_patients_sizes:\n",
        "  train_input, train_target, test_input, test_target = train_test_split(df, training_patients, prediction_horizon, device)\n",
        "  print(train_input.shape)\n",
        "  print(train_target.shape)\n",
        "  print(test_input.shape)\n",
        "  print(test_target.shape)\n",
        "\n",
        "  # Initialize the model\n",
        "  model = TransformerModel(embed_dim=EMBED_DIM, nhead=NHEAD, num_layers=NLAYERS, dim_feedforward=NHID).to(device)\n",
        "  criterion = MeanAbsolutePercentageError().to(device)\n",
        "  optimizer = torch.optim.Adam(model.parameters(), lr=LR)\n",
        "\n",
        "  train_losses = []\n",
        "  test_losses = []\n",
        "  avg_test_losses = []\n",
        "\n",
        "\n",
        "  for epoch in tqdm(range(N_EPOCHS)):\n",
        "      model.train()\n",
        "      for t in range(0, train_input.shape[0]):\n",
        "          for patient in range(training_patients):# Loop over the time steps in each epoch\n",
        "              optimizer.zero_grad()\n",
        "              output = model(train_input[:t+1,patient,:])\n",
        "              if len(output.shape) < 3:\n",
        "                  output = output.unsqueeze(0)\n",
        "              loss = criterion(output, train_target[:t+1,patient,:].unsqueeze(2))\n",
        "              loss.backward()\n",
        "              optimizer.step()\n",
        "      train_losses.append(loss.item())\n",
        "\n",
        "      if epoch % 10 == 0:\n",
        "          print(f'At epoch {epoch}, Training Loss {loss.item()}')\n",
        "\n",
        "\n",
        "      model.eval()\n",
        "\n",
        "      with torch.no_grad():\n",
        "          test_losses = []  # Collect test losses at each time step\n",
        "          for t in range(0, test_input.shape[0]):\n",
        "              test_output = model(test_input[:t+1,:,:])\n",
        "              test_loss = criterion(test_output, test_target[:t+1,:,:])\n",
        "              test_losses.append(test_loss.item())\n",
        "          avg_test_loss = np.mean(test_losses)\n",
        "          avg_test_losses.append(avg_test_loss)\n",
        "\n",
        "      if epoch % 10 == 0:\n",
        "          print(f'Test Loss at epoch {epoch} is {avg_test_loss}')\n",
        "  final_test_losses.append(avg_test_losses[-1])"
      ]
    },
    {
      "cell_type": "code",
      "execution_count": null,
      "metadata": {
        "colab": {
          "base_uri": "https://localhost:8080/"
        },
        "id": "ztaeGeIZilsA",
        "outputId": "9b0c2020-376e-41b3-d84d-83c7d7ed6da7"
      },
      "outputs": [
        {
          "data": {
            "text/plain": [
              "[0.29672742383535056,\n",
              " 0.1518670172124039,\n",
              " 0.1383827210284879,\n",
              " 0.13770572880216614,\n",
              " 0.12854232693743156,\n",
              " 0.1384688645163922,\n",
              " 0.1246102333568677,\n",
              " 0.1276592392654039,\n",
              " 0.12569861554499692,\n",
              " 0.12364523973417482]"
            ]
          },
          "execution_count": 10,
          "metadata": {},
          "output_type": "execute_result"
        }
      ],
      "source": [
        "final_test_losses"
      ]
    },
    {
      "cell_type": "code",
      "execution_count": null,
      "metadata": {
        "colab": {
          "base_uri": "https://localhost:8080/",
          "height": 472
        },
        "id": "nMFE5S_2nPZU",
        "outputId": "0636ad6c-c965-44e2-ca60-f74303c83a0f"
      },
      "outputs": [
        {
          "data": {
            "image/png": "[encoded data removed]",
            "text/plain": [
              "<Figure size 640x480 with 1 Axes>"
            ]
          },
          "metadata": {},
          "output_type": "display_data"
        }
      ],
      "source": [
        "#Training Curve\n",
        "plt.figure()\n",
        "plt.plot(training_patients_sizes,final_test_losses, label = \"Transformer\")\n",
        "plt.ylabel(\"test loss (MAPE)\")\n",
        "plt.xlabel(\"Num Patients used for Training\")\n",
        "plt.title(\"Simple Transformer MAPE vs Training Size\")\n",
        "plt.ylim(0,1)\n",
        "plt.legend()\n",
        "plt.show()"
      ]
    },
    {
      "cell_type": "code",
      "execution_count": null,
      "metadata": {
        "id": "YJb-3A4BzOLv"
      },
      "outputs": [],
      "source": []
    }
  ],
  "metadata": {
    "accelerator": "GPU",
    "colab": {
      "machine_shape": "hm",
      "provenance": []
    },
    "kernelspec": {
      "display_name": "Python 3",
      "name": "python3"
    },
    "language_info": {
      "codemirror_mode": {
        "name": "ipython",
        "version": 3
      },
      "file_extension": ".py",
      "mimetype": "text/x-python",
      "name": "python",
      "nbconvert_exporter": "python",
      "pygments_lexer": "ipython3",
      "version": "3.8.16"
    }
  },
  "nbformat": 4,
  "nbformat_minor": 0
}