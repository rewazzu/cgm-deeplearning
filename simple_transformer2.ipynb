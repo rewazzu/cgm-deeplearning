{
 "cells": [
  {
   "cell_type": "code",
   "execution_count": 34,
   "metadata": {
    "id": "-LWSTbqsG1sQ"
   },
   "outputs": [],
   "source": [
    "import numpy as np\n",
    "import pandas as pd\n",
    "import matplotlib.pyplot as plt\n",
    "from tqdm import tqdm\n",
    "import math\n",
    "# Pytorch package\n",
    "import torch\n",
    "import torch.nn as nn\n",
    "from torchmetrics.regression import MeanAbsolutePercentageError"
   ]
  },
  {
   "cell_type": "code",
   "execution_count": 35,
   "metadata": {
    "colab": {
     "base_uri": "https://localhost:8080/",
     "height": 500
    },
    "id": "tzef7ORmG5Xq",
    "outputId": "66902d8a-b22f-40a1-f104-277804be867c"
   },
   "outputs": [],
   "source": [
    "df = pd.read_csv(\"cgm_data.csv\")\n",
    "for column in df.columns:\n",
    "    df[column] = df[column].astype(float)\n",
    "df.rename({0:\"ID\"}, axis=1)\n",
    "df = df.drop(\"ptid\", axis=1)\n",
    "df = df.iloc[:-1 , :]"
   ]
  },
  {
   "cell_type": "code",
   "execution_count": 36,
   "metadata": {
    "colab": {
     "base_uri": "https://localhost:8080/"
    },
    "id": "LuGxR3aTHA7N",
    "outputId": "ac1dfada-156e-414d-bfdc-ba9670b32f39"
   },
   "outputs": [
    {
     "name": "stdout",
     "output_type": "stream",
     "text": [
      "You are using device: cuda\n"
     ]
    }
   ],
   "source": [
    "# Check device availability\n",
    "device = torch.device('cuda' if torch.cuda.is_available() else 'cpu')\n",
    "print(\"You are using device: %s\" % device)"
   ]
  },
  {
   "cell_type": "code",
   "execution_count": 37,
   "metadata": {
    "id": "996kEX39HDO4"
   },
   "outputs": [],
   "source": [
    "# Define constants\n",
    "N_EPOCHS = 20\n",
    "NHEAD = 1\n",
    "NHID = 64\n",
    "NLAYERS = 2\n",
    "LR = 0.01\n",
    "training_patients = 5\n",
    "EMBED_DIM=4\n",
    "prediction_horizon = 1"
   ]
  },
  {
   "cell_type": "code",
   "execution_count": 38,
   "metadata": {},
   "outputs": [],
   "source": [
    "class PositionalEncoding(nn.Module): # from https://pytorch.org/tutorials/beginner/transformer_tutorial.html\n",
    "\n",
    "    def __init__(self, d_model: int, dropout: float = 0.0, max_len: int = 500, device='cuda'):\n",
    "        super().__init__()\n",
    "        self.dropout = nn.Dropout(p=dropout)\n",
    "\n",
    "        position = torch.arange(max_len).unsqueeze(1)\n",
    "        div_term = torch.exp(torch.arange(0, d_model, 2) * (-math.log(10000.0) / d_model))\n",
    "        pe = torch.zeros(max_len, 1, d_model).to(device)\n",
    "        pe[:, 0, 0::2] = torch.sin(position * div_term)\n",
    "        pe[:, 0, 1::2] = torch.cos(position * div_term)\n",
    "        self.register_buffer('pe', pe)\n",
    "\n",
    "    def forward(self, x):\n",
    "        \"\"\"\n",
    "        Arguments:\n",
    "            x: Tensor, shape ``[seq_len, batch_size, embedding_dim]``\n",
    "        \"\"\"\n",
    "        x = x + self.pe[:x.size(0)]\n",
    "        return self.dropout(x)"
   ]
  },
  {
   "cell_type": "code",
   "execution_count": 39,
   "metadata": {
    "id": "zAnO_30sHMcl"
   },
   "outputs": [],
   "source": [
    "# Define the transformer model\n",
    "class TransformerModel(nn.Module):\n",
    "    def __init__(self, embed_dim, nhead, num_layers, dim_feedforward):\n",
    "        super(TransformerModel, self).__init__()\n",
    "        \n",
    "        self.embedding = nn.Embedding(500, embed_dim, device = 'cuda')\n",
    "        self.pos_encoder = PositionalEncoding(d_model = embed_dim)\n",
    "        self.transformer_encoder = nn.TransformerEncoder(\n",
    "            nn.TransformerEncoderLayer(embed_dim, nhead, dim_feedforward), num_layers)\n",
    "        \n",
    "        self.linear = nn.Linear(embed_dim, 1)\n",
    "        \n",
    "        self.mask_dict={}\n",
    "        for i in range(480):\n",
    "            self.mask_dict[i] = self.generate_square_subsequent_mask(i)\n",
    "\n",
    "    def generate_square_subsequent_mask(self, sz):\n",
    "        mask = (torch.triu(torch.ones(sz, sz,device=device)) == 1).transpose(0, 1)\n",
    "        mask = mask.float().masked_fill(mask == 0, float('-inf')).masked_fill(mask == 1, float(0.0))\n",
    "        return mask\n",
    "\n",
    "    def forward(self, x):\n",
    "        mask = self.mask_dict[x.size(0)]\n",
    "        x = x.type(torch.LongTensor).to(device)\n",
    "        x = self.embedding(x)\n",
    "        x = x.squeeze(2)\n",
    "        x = self.pos_encoder(x)\n",
    "        x = self.transformer_encoder(x,)# mask)\n",
    "        x = self.linear(x)\n",
    "        return x\n",
    "\n",
    "# Function to split the data\n",
    "def train_test_split(df, training_patients, prediction_horizon, device):\n",
    "    train_input = torch.from_numpy(df.iloc[:training_patients,:-prediction_horizon].values).float().to(device)\n",
    "    train_target = torch.from_numpy(df.iloc[:training_patients, prediction_horizon:].values).float().to(device)\n",
    "    test_input = torch.from_numpy(df.iloc[training_patients:,:-prediction_horizon].values).float().to(device)\n",
    "    test_target = torch.from_numpy(df.iloc[training_patients:, prediction_horizon:].values).float().to(device)\n",
    "\n",
    "    train_input = torch.unsqueeze(train_input, -1).permute(1, 0, 2)\n",
    "    train_target = torch.unsqueeze(train_target, -1).permute(1, 0, 2)\n",
    "    test_input = torch.unsqueeze(test_input, -1).permute(1, 0, 2)\n",
    "    test_target = torch.unsqueeze(test_target, -1).permute(1, 0, 2)\n",
    "    return train_input, train_target, test_input, test_target"
   ]
  },
  {
   "cell_type": "code",
   "execution_count": 40,
   "metadata": {
    "colab": {
     "base_uri": "https://localhost:8080/"
    },
    "id": "8e7X5K9wHSJv",
    "outputId": "31b6c7ba-6a66-408c-90e5-12c1c796bcd2",
    "scrolled": false
   },
   "outputs": [
    {
     "name": "stdout",
     "output_type": "stream",
     "text": [
      "torch.Size([479, 5, 1])\n",
      "torch.Size([479, 5, 1])\n",
      "torch.Size([479, 91, 1])\n",
      "torch.Size([479, 91, 1])\n"
     ]
    },
    {
     "name": "stderr",
     "output_type": "stream",
     "text": [
      "\r",
      "  0%|                                                                                           | 0/20 [00:00<?, ?it/s]"
     ]
    },
    {
     "name": "stdout",
     "output_type": "stream",
     "text": [
      "At epoch 0, Training Loss 0.04892142862081528\n"
     ]
    },
    {
     "name": "stderr",
     "output_type": "stream",
     "text": [
      "\r",
      "  5%|████▏                                                                              | 1/20 [00:14<04:31, 14.31s/it]"
     ]
    },
    {
     "name": "stdout",
     "output_type": "stream",
     "text": [
      "Test Loss at epoch 0 is 0.09584179223517038\n"
     ]
    },
    {
     "name": "stderr",
     "output_type": "stream",
     "text": [
      " 50%|█████████████████████████████████████████                                         | 10/20 [02:24<02:27, 14.79s/it]"
     ]
    },
    {
     "name": "stdout",
     "output_type": "stream",
     "text": [
      "At epoch 10, Training Loss 0.029341187328100204\n"
     ]
    },
    {
     "name": "stderr",
     "output_type": "stream",
     "text": [
      "\r",
      " 55%|█████████████████████████████████████████████                                     | 11/20 [02:40<02:16, 15.12s/it]"
     ]
    },
    {
     "name": "stdout",
     "output_type": "stream",
     "text": [
      "Test Loss at epoch 10 is 0.08699582881121147\n"
     ]
    },
    {
     "name": "stderr",
     "output_type": "stream",
     "text": [
      "100%|██████████████████████████████████████████████████████████████████████████████████| 20/20 [04:58<00:00, 14.94s/it]\n"
     ]
    }
   ],
   "source": [
    "train_input, train_target, test_input, test_target = train_test_split(df, training_patients, prediction_horizon, device)\n",
    "print(train_input.shape)\n",
    "print(train_target.shape)\n",
    "print(test_input.shape)\n",
    "print(test_target.shape)\n",
    "\n",
    "# Initialize the model\n",
    "model = TransformerModel(embed_dim=EMBED_DIM, nhead=NHEAD, num_layers=NLAYERS, dim_feedforward=NHID).to(device)\n",
    "criterion = MeanAbsolutePercentageError().to(device)\n",
    "optimizer = torch.optim.Adam(model.parameters(), lr=LR)\n",
    "\n",
    "train_losses = []\n",
    "test_losses = []\n",
    "avg_test_losses = []\n",
    "all_test_outputs = torch.zeros(test_input.shape).to(device)\n",
    "\n",
    "\n",
    "for epoch in tqdm(range(N_EPOCHS)):\n",
    "    model.train()\n",
    "    for t in range(0, train_input.shape[0]):\n",
    "        for patient in range(training_patients):# Loop over the time steps in each epoch\n",
    "            optimizer.zero_grad()\n",
    "            output = model(train_input[:t+1,patient,:])\n",
    "            if len(output.shape) < 3:\n",
    "                output = output.unsqueeze(0)\n",
    "            loss = criterion(output, train_target[:t+1,patient,:].unsqueeze(2))\n",
    "            loss.backward()\n",
    "            optimizer.step()\n",
    "    train_losses.append(loss.item())\n",
    "\n",
    "    if epoch % 10 == 0:\n",
    "        print(f'At epoch {epoch}, Training Loss {loss.item()}')\n",
    "\n",
    "\n",
    "    model.eval()\n",
    "\n",
    "    with torch.no_grad():\n",
    "        test_losses = []  # Collect test losses at each time step\n",
    "        for t in range(0, test_input.shape[0]):\n",
    "            test_output = model(test_input[:t+1,:,:])\n",
    "            #all_test_outputs[:t, :] = test_output.unsqueeze(-1)  # Adjust dimensions here\n",
    "            test_loss = criterion(test_output, test_target[:t+1,:,:])\n",
    "            test_losses.append(test_loss.item())\n",
    "        avg_test_loss = np.mean(test_losses)\n",
    "        avg_test_losses.append(avg_test_loss)\n",
    "\n",
    "    if epoch % 10 == 0:\n",
    "        print(f'Test Loss at epoch {epoch} is {avg_test_loss}')\n"
   ]
  },
  {
   "cell_type": "code",
   "execution_count": 41,
   "metadata": {},
   "outputs": [
    {
     "data": {
      "text/plain": [
       "0.08409578054521179"
      ]
     },
     "execution_count": 41,
     "metadata": {},
     "output_type": "execute_result"
    }
   ],
   "source": [
    "avg_test_loss"
   ]
  },
  {
   "cell_type": "code",
   "execution_count": 8,
   "metadata": {},
   "outputs": [
    {
     "data": {
      "text/plain": [
       "torch.Size([1, 1])"
      ]
     },
     "execution_count": 8,
     "metadata": {},
     "output_type": "execute_result"
    }
   ],
   "source": [
    "train_target[:1,1,:].shape"
   ]
  },
  {
   "cell_type": "code",
   "execution_count": 9,
   "metadata": {
    "scrolled": true
   },
   "outputs": [
    {
     "data": {
      "text/plain": [
       "torch.Size([1, 1])"
      ]
     },
     "execution_count": 9,
     "metadata": {},
     "output_type": "execute_result"
    }
   ],
   "source": [
    "train_target[:t+1,patient,:].shape"
   ]
  },
  {
   "cell_type": "code",
   "execution_count": 9,
   "metadata": {},
   "outputs": [
    {
     "data": {
      "text/plain": [
       "tensor([[120.6000]], device='cuda:0')"
      ]
     },
     "execution_count": 9,
     "metadata": {},
     "output_type": "execute_result"
    }
   ],
   "source": [
    "train_target[:t+1,patient,:]"
   ]
  },
  {
   "cell_type": "code",
   "execution_count": null,
   "metadata": {
    "id": "rDXeWCdVuAhl"
   },
   "outputs": [],
   "source": [
    "torch.save(model, \"simpletransformer\")"
   ]
  },
  {
   "cell_type": "code",
   "execution_count": null,
   "metadata": {
    "colab": {
     "base_uri": "https://localhost:8080/",
     "height": 489
    },
    "id": "lnrMCww-b-Sq",
    "outputId": "b63692d2-0920-4839-f9f7-588fb52bf912"
   },
   "outputs": [],
   "source": [
    "plt.figure()\n",
    "plt.plot(range(N_EPOCHS), train_losses, label = \"Training Loss\")\n",
    "plt.plot(range(N_EPOCHS), avg_test_losses, label = \"Test Loss\")\n",
    "plt.ylabel(\"test loss (MAPE)\")\n",
    "plt.xlabel(\"Epochs\")\n",
    "plt.title(\"Simple Transformer Learning Curve\")\n",
    "plt.legend()\n",
    "plt.show()\n",
    "print(test_losses[-1])"
   ]
  },
  {
   "cell_type": "code",
   "execution_count": null,
   "metadata": {
    "colab": {
     "base_uri": "https://localhost:8080/",
     "height": 1000
    },
    "id": "ApD-pZR4Yiut",
    "outputId": "2bd6791f-d1ee-40b1-cbcd-29a421bd2d5d",
    "scrolled": false
   },
   "outputs": [],
   "source": [
    "def draw(true, pred, index, color):\n",
    "    true = true.detach().cpu().numpy()  # Detach the tensor from the computation graph, move it to cpu and convert to numpy array\n",
    "    pred = pred.detach().cpu().numpy()  # Detach the tensor from the computation graph, move it to cpu and convert to numpy array\n",
    "\n",
    "    plt.figure(figsize=(10, 5))\n",
    "    plt.title(f\"test patient {index}\")\n",
    "    plt.xlabel(\"time step\")\n",
    "    plt.ylabel(\"glucose level\")\n",
    "    n = true.shape[0]\n",
    "    plt.plot(np.arange(n), true[:, index], color, label=\"True\")\n",
    "    plt.plot(np.arange(n), pred[:, index], color + \":\", label=\"Predicted\")\n",
    "    plt.legend()\n",
    "    plt.show()\n",
    "\n",
    "print(test_target.shape)\n",
    "print(all_test_outputs.shape)\n",
    "\n",
    "draw(test_target, all_test_outputs, 0, 'r')\n",
    "draw(test_target, all_test_outputs, 1, 'r')\n",
    "draw(test_target, all_test_outputs, 2, 'r')\n",
    "draw(test_target, all_test_outputs, 3, 'r')\n",
    "draw(test_target, all_test_outputs, 4, 'r')\n",
    "draw(test_target, all_test_outputs, 5, 'r')"
   ]
  },
  {
   "cell_type": "markdown",
   "metadata": {
    "id": "Ddr19NL3hnOP"
   },
   "source": [
    "**Graph 2 Variable Time Horizon**"
   ]
  },
  {
   "cell_type": "code",
   "execution_count": 20,
   "metadata": {
    "colab": {
     "base_uri": "https://localhost:8080/"
    },
    "id": "bN8zsZGfdvkL",
    "outputId": "7b564df0-70da-4ba2-dd76-350eb156b49b"
   },
   "outputs": [
    {
     "name": "stdout",
     "output_type": "stream",
     "text": [
      "Prediction Horizon: 1\n",
      "\n"
     ]
    },
    {
     "ename": "TypeError",
     "evalue": "__init__() got an unexpected keyword argument 'd_model'",
     "output_type": "error",
     "traceback": [
      "\u001b[1;31m---------------------------------------------------------------------------\u001b[0m",
      "\u001b[1;31mTypeError\u001b[0m                                 Traceback (most recent call last)",
      "Cell \u001b[1;32mIn[20], line 10\u001b[0m\n\u001b[0;32m      7\u001b[0m train_input, train_target, test_input, test_target \u001b[38;5;241m=\u001b[39m train_test_split(df, training_patients, prediction_horizon, device)\n\u001b[0;32m      9\u001b[0m \u001b[38;5;66;03m# Initialize the model\u001b[39;00m\n\u001b[1;32m---> 10\u001b[0m model \u001b[38;5;241m=\u001b[39m \u001b[43mTransformerModel\u001b[49m\u001b[43m(\u001b[49m\u001b[43md_model\u001b[49m\u001b[38;5;241;43m=\u001b[39;49m\u001b[38;5;241;43m1\u001b[39;49m\u001b[43m,\u001b[49m\u001b[43m \u001b[49m\u001b[43mnhead\u001b[49m\u001b[38;5;241;43m=\u001b[39;49m\u001b[43mNHEAD\u001b[49m\u001b[43m,\u001b[49m\u001b[43m \u001b[49m\u001b[43mnum_layers\u001b[49m\u001b[38;5;241;43m=\u001b[39;49m\u001b[43mNLAYERS\u001b[49m\u001b[43m,\u001b[49m\u001b[43m \u001b[49m\u001b[43mdim_feedforward\u001b[49m\u001b[38;5;241;43m=\u001b[39;49m\u001b[43mNHID\u001b[49m\u001b[43m)\u001b[49m\u001b[38;5;241m.\u001b[39mto(device)\n\u001b[0;32m     11\u001b[0m criterion \u001b[38;5;241m=\u001b[39m MeanAbsolutePercentageError()\u001b[38;5;241m.\u001b[39mto(device)\n\u001b[0;32m     12\u001b[0m optimizer \u001b[38;5;241m=\u001b[39m torch\u001b[38;5;241m.\u001b[39moptim\u001b[38;5;241m.\u001b[39mAdam(model\u001b[38;5;241m.\u001b[39mparameters(), lr\u001b[38;5;241m=\u001b[39mLR)\n",
      "\u001b[1;31mTypeError\u001b[0m: __init__() got an unexpected keyword argument 'd_model'"
     ]
    }
   ],
   "source": [
    "final_test_losses = []\n",
    "\n",
    "prediction_horizons = range(1, 9)\n",
    "\n",
    "for prediction_horizon in prediction_horizons:\n",
    "  print(f'Prediction Horizon: {prediction_horizon}\\n')\n",
    "  train_input, train_target, test_input, test_target = train_test_split(df, training_patients, prediction_horizon, device)\n",
    "\n",
    "  # Initialize the model\n",
    "  model = TransformerModel(d_model=1, nhead=NHEAD, num_layers=NLAYERS, dim_feedforward=NHID).to(device)\n",
    "  criterion = MeanAbsolutePercentageError().to(device)\n",
    "  optimizer = torch.optim.Adam(model.parameters(), lr=LR)\n",
    "\n",
    "  train_losses = []\n",
    "  test_losses = []\n",
    "  avg_test_losses = []\n",
    "  all_test_outputs = torch.zeros(test_input.shape).to(device)\n",
    "\n",
    "\n",
    "  for epoch in range(N_EPOCHS):\n",
    "      model.train()\n",
    "      for t in range(timestep, train_input.shape[0]):  # Loop over the time steps in each epoch\n",
    "          optimizer.zero_grad()\n",
    "          output = model(train_input[:t]).squeeze(-1)\n",
    "          loss = criterion(output[:, -1], train_target[:t, -timestep].squeeze(-1))\n",
    "          loss.backward()\n",
    "          optimizer.step()\n",
    "      train_losses.append(loss.item())\n",
    "\n",
    "      if epoch % 10 == 0:\n",
    "          print(f'At epoch {epoch}, Training Loss {loss.item()}')\n",
    "\n",
    "\n",
    "      model.eval()\n",
    "      with torch.no_grad():\n",
    "          test_losses = []  # Collect test losses at each time step\n",
    "          for t in range(timestep, test_input.shape[0]):\n",
    "              test_output = model(test_input[:t]).squeeze(-1)\n",
    "              all_test_outputs[:t, :] = test_output.unsqueeze(-1)  # Adjust dimensions here\n",
    "              test_loss = criterion(test_output[:, -1], test_target[:t, -timestep].squeeze(-1))\n",
    "              test_losses.append(test_loss.item())\n",
    "          avg_test_loss = np.mean(test_losses)\n",
    "          avg_test_losses.append(avg_test_loss)\n",
    "\n",
    "          if epoch % 10 == 0:\n",
    "            print(f'Test Loss at epoch {epoch} is {avg_test_loss}')\n",
    "  final_test_losses.append(avg_test_losses[-1])"
   ]
  },
  {
   "cell_type": "code",
   "execution_count": 85,
   "metadata": {
    "colab": {
     "base_uri": "https://localhost:8080/"
    },
    "id": "j5sJgiX9iN0N",
    "outputId": "a94daef1-205e-4bd3-afec-5f51c87f55b1"
   },
   "outputs": [
    {
     "data": {
      "text/plain": [
       "[0.33098310738739606,\n",
       " 0.33368311942685824,\n",
       " 0.3368684519317095,\n",
       " 0.3406926217675209,\n",
       " 0.3440687212629346,\n",
       " 0.34923753353430403,\n",
       " 0.3528809734635939,\n",
       " 0.35616995935227463]"
      ]
     },
     "execution_count": 85,
     "metadata": {},
     "output_type": "execute_result"
    }
   ],
   "source": [
    "final_test_losses"
   ]
  },
  {
   "cell_type": "code",
   "execution_count": 86,
   "metadata": {
    "colab": {
     "base_uri": "https://localhost:8080/",
     "height": 472
    },
    "id": "_LxzBAgXlF9g",
    "outputId": "cfabe5e4-cfd2-4bbf-9407-67c84d9b13e1"
   },
   "outputs": [
    {
     "data": {
      "image/png": "[encoded data removed]",
      "text/plain": [
       "<Figure size 640x480 with 1 Axes>"
      ]
     },
     "metadata": {},
     "output_type": "display_data"
    }
   ],
   "source": [
    "# Training Curve\n",
    "plt.figure()\n",
    "plt.plot([15*x for x in prediction_horizons],final_test_losses, label = \"Simple Transformer\")\n",
    "plt.ylabel(\"test loss (MAPE)\")\n",
    "plt.xlabel(\"Prediction Horizon (minutes)\")\n",
    "plt.title(\"Simple Transformer MAPE vs Prediction Horizon\")\n",
    "plt.legend()\n",
    "plt.show()"
   ]
  },
  {
   "cell_type": "markdown",
   "metadata": {
    "id": "tDfqql7MwdZI"
   },
   "source": [
    "Graph 3 Variable Training Patients"
   ]
  },
  {
   "cell_type": "code",
   "execution_count": 89,
   "metadata": {
    "colab": {
     "base_uri": "https://localhost:8080/"
    },
    "id": "yHBETJmalWW8",
    "outputId": "f4d44a51-8495-43bc-aa93-8dbdd1be5306"
   },
   "outputs": [
    {
     "name": "stdout",
     "output_type": "stream",
     "text": [
      "Training Patient Size: 1\n",
      "\n",
      "At epoch 0, Training Loss 0.5028061270713806\n",
      "Test Loss at epoch 0 is 0.6787495929470994\n",
      "Training Patient Size: 10\n",
      "\n",
      "At epoch 0, Training Loss 0.5308899879455566\n",
      "Test Loss at epoch 0 is 0.6594011993671426\n",
      "Training Patient Size: 20\n",
      "\n",
      "At epoch 0, Training Loss 0.5097207427024841\n",
      "Test Loss at epoch 0 is 0.6429427282572299\n",
      "Training Patient Size: 30\n",
      "\n",
      "At epoch 0, Training Loss 0.46560126543045044\n",
      "Test Loss at epoch 0 is 0.6302549952914\n",
      "Training Patient Size: 40\n",
      "\n",
      "At epoch 0, Training Loss 0.4134085476398468\n",
      "Test Loss at epoch 0 is 0.6338289502826213\n",
      "Training Patient Size: 50\n",
      "\n",
      "At epoch 0, Training Loss 0.546760618686676\n",
      "Test Loss at epoch 0 is 0.6429498910650833\n",
      "Training Patient Size: 60\n",
      "\n",
      "At epoch 0, Training Loss 0.5809990167617798\n",
      "Test Loss at epoch 0 is 0.6422896652211556\n",
      "Training Patient Size: 70\n",
      "\n",
      "At epoch 0, Training Loss 0.5990908145904541\n",
      "Test Loss at epoch 0 is 0.6439832193330088\n",
      "Training Patient Size: 80\n",
      "\n",
      "At epoch 0, Training Loss 0.5645631551742554\n",
      "Test Loss at epoch 0 is 0.6331061782857162\n",
      "Training Patient Size: 90\n",
      "\n",
      "At epoch 0, Training Loss 0.5100032687187195\n",
      "Test Loss at epoch 0 is 0.653092939003258\n"
     ]
    }
   ],
   "source": [
    "training_patients_sizes = [1,10,20,30,40,50,60,70,80,90]\n",
    "\n",
    "final_test_losses = []\n",
    "\n",
    "\n",
    "for training_patients in training_patients_sizes:\n",
    "  print(f'Training Patient Size: {training_patients}\\n')\n",
    "  train_input, train_target, test_input, test_target = train_test_split(df, training_patients, prediction_horizon, device)\n",
    "\n",
    "  # Initialize the model\n",
    "  model = TransformerModel(d_model=1, nhead=NHEAD, num_layers=NLAYERS, dim_feedforward=NHID).to(device)\n",
    "  criterion = MeanAbsolutePercentageError().to(device)\n",
    "  optimizer = torch.optim.Adam(model.parameters(), lr=LR)\n",
    "\n",
    "  train_losses = []\n",
    "  test_losses = []\n",
    "  avg_test_losses = []\n",
    "  all_test_outputs = torch.zeros(test_input.shape).to(device)\n",
    "\n",
    "\n",
    "  for epoch in range(N_EPOCHS):\n",
    "      model.train()\n",
    "      for t in range(timestep, train_input.shape[0]):  # Loop over the time steps in each epoch\n",
    "          optimizer.zero_grad()\n",
    "          output = model(train_input[:t]).squeeze(-1)\n",
    "          loss = criterion(output[:, -1], train_target[:t, -timestep].squeeze(-1))\n",
    "          loss.backward()\n",
    "          optimizer.step()\n",
    "      train_losses.append(loss.item())\n",
    "\n",
    "      if epoch % 10 == 0:\n",
    "          print(f'At epoch {epoch}, Training Loss {loss.item()}')\n",
    "\n",
    "\n",
    "      model.eval()\n",
    "      with torch.no_grad():\n",
    "          test_losses = []  # Collect test losses at each time step\n",
    "          for t in range(timestep, test_input.shape[0]):\n",
    "              test_output = model(test_input[:t]).squeeze(-1)\n",
    "              all_test_outputs[:t, :] = test_output.unsqueeze(-1)  # Adjust dimensions here\n",
    "              test_loss = criterion(test_output[:, -1], test_target[:t, -timestep].squeeze(-1))\n",
    "              test_losses.append(test_loss.item())\n",
    "          avg_test_loss = np.mean(test_losses)\n",
    "          avg_test_losses.append(avg_test_loss)\n",
    "\n",
    "          if epoch % 10 == 0:\n",
    "            print(f'Test Loss at epoch {epoch} is {avg_test_loss}')\n",
    "  final_test_losses.append(avg_test_losses[-1])"
   ]
  },
  {
   "cell_type": "code",
   "execution_count": 90,
   "metadata": {
    "colab": {
     "base_uri": "https://localhost:8080/",
     "height": 472
    },
    "id": "nMFE5S_2nPZU",
    "outputId": "57b3bcd4-4d0e-49d6-b600-b4d79cbb66e4"
   },
   "outputs": [
    {
     "data": {
      "image/png": "[encoded data removed]",
      "text/plain": [
       "<Figure size 640x480 with 1 Axes>"
      ]
     },
     "metadata": {},
     "output_type": "display_data"
    }
   ],
   "source": [
    "#Training Curve\n",
    "plt.figure()\n",
    "plt.plot(training_patients_sizes,final_test_losses, label = \"Simple Transformer\")\n",
    "plt.ylabel(\"test loss (MAPE)\")\n",
    "plt.xlabel(\"Num Patients used for Training\")\n",
    "plt.title(\"Simple Transformer MAPE vs Training Size\")\n",
    "plt.ylim(0,1)\n",
    "plt.legend()\n",
    "plt.show()"
   ]
  },
  {
   "cell_type": "code",
   "execution_count": null,
   "metadata": {
    "id": "YJb-3A4BzOLv"
   },
   "outputs": [],
   "source": []
  }
 ],
 "metadata": {
  "accelerator": "GPU",
  "colab": {
   "gpuType": "T4",
   "provenance": []
  },
  "kernelspec": {
   "display_name": "Python 3 (ipykernel)",
   "language": "python",
   "name": "python3"
  },
  "language_info": {
   "codemirror_mode": {
    "name": "ipython",
    "version": 3
   },
   "file_extension": ".py",
   "mimetype": "text/x-python",
   "name": "python",
   "nbconvert_exporter": "python",
   "pygments_lexer": "ipython3",
   "version": "3.8.16"
  }
 },
 "nbformat": 4,
 "nbformat_minor": 1
}
